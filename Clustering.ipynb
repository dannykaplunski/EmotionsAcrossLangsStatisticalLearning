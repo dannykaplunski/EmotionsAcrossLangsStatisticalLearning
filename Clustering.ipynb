{
 "cells": [
  {
   "cell_type": "markdown",
   "id": "9a333084",
   "metadata": {},
   "source": [
    "Imports"
   ]
  },
  {
   "cell_type": "code",
   "execution_count": 2,
   "id": "4acfb8ba",
   "metadata": {},
   "outputs": [
    {
     "name": "stderr",
     "output_type": "stream",
     "text": [
      "C:\\Users\\USER\\anaconda3\\lib\\site-packages\\scipy\\__init__.py:138: UserWarning: A NumPy version >=1.16.5 and <1.23.0 is required for this version of SciPy (detected version 1.23.5)\n",
      "  warnings.warn(f\"A NumPy version >={np_minversion} and <{np_maxversion} is required for this version of \"\n"
     ]
    }
   ],
   "source": [
    "import matplotlib.pyplot as plt\n",
    "import numpy as np\n",
    "import pandas as pd\n",
    "import seaborn as sns\n",
    "\n",
    "from kneed import KneeLocator\n",
    "from sklearn.datasets import make_blobs\n",
    "from sklearn.cluster import KMeans\n",
    "from sklearn.metrics import silhouette_score\n",
    "from sklearn.preprocessing import StandardScaler\n",
    "from sklearn.cluster import KMeans\n",
    "from sklearn.decomposition import PCA\n",
    "from sklearn.metrics import silhouette_score, adjusted_rand_score\n",
    "from sklearn.pipeline import Pipeline\n",
    "from sklearn.preprocessing import LabelEncoder, MinMaxScaler"
   ]
  },
  {
   "cell_type": "markdown",
   "id": "dbf9322f",
   "metadata": {},
   "source": [
    "# Get data"
   ]
  },
  {
   "cell_type": "code",
   "execution_count": 19,
   "id": "aede70c7",
   "metadata": {},
   "outputs": [
    {
     "name": "stdout",
     "output_type": "stream",
     "text": [
      "     emotion\n",
      "0        ANG\n",
      "1        SAD\n",
      "2        ANG\n",
      "3        SAD\n",
      "4        ANG\n",
      "...      ...\n",
      "2528     HAP\n",
      "2529     HAP\n",
      "2530     SAD\n",
      "2531     HAP\n",
      "2532     HAP\n",
      "\n",
      "[2533 rows x 1 columns]\n",
      "      sample_rate  bit_depth  duration  syllabic_rate  zcr_mean   zcr_std  \\\n",
      "0           22050         16  1.439637       0.694619  0.124574  0.139607   \n",
      "1           22050         16  2.321995       0.430664  0.148597  0.217951   \n",
      "2           22050         16  3.041814       0.328751  0.204938  0.114941   \n",
      "3           22050         16  2.391655       0.418120  0.105257  0.164129   \n",
      "4           22050         16  2.484535       0.402490  0.188427  0.075686   \n",
      "...           ...        ...       ...            ...       ...       ...   \n",
      "2528        22050         16  2.113016       0.473257  0.147180  0.192641   \n",
      "2529        22050         16  2.554195       0.391513  0.069785  0.078659   \n",
      "2530        22050         16  2.254331       0.443591  0.080342  0.133835   \n",
      "2531        22050         16  1.486077       0.672913  0.077757  0.078475   \n",
      "2532        22050         16  1.857596       0.538330  0.205295  0.244933   \n",
      "\n",
      "      zcr_frequncy  mean_spectral_envelope  median_spectral_envelope  \\\n",
      "0         0.694619             2473.625757               1921.640692   \n",
      "1         0.430664             2522.187384               1736.391260   \n",
      "2         0.328751             3089.715581               2730.327215   \n",
      "3         0.418120             1866.819458                938.745038   \n",
      "4         0.402490             2904.748432               2826.918473   \n",
      "...            ...                     ...                       ...   \n",
      "2528      0.473257             2875.837071               2386.423644   \n",
      "2529      0.391513             1705.048001               1167.464651   \n",
      "2530      0.443591             1737.380085               1145.334125   \n",
      "2531      0.672913             1643.737342               1423.866049   \n",
      "2532      0.538330             3290.980952               2393.176831   \n",
      "\n",
      "      min_spectral_envelope  ...  chroma12_2_grad  chroma12_3_diff  \\\n",
      "0                427.937143  ...         1.061791         0.661701   \n",
      "1                312.793587  ...         0.876181         0.119791   \n",
      "2               1461.447184  ...         3.416683        -0.582636   \n",
      "3                599.820393  ...         1.392804        -0.269884   \n",
      "4               1910.006091  ...         1.136240         0.111024   \n",
      "...                     ...  ...              ...              ...   \n",
      "2528             792.120516  ...         1.772219        -0.284435   \n",
      "2529             685.368084  ...         0.455752         0.033649   \n",
      "2530             315.048198  ...         0.592528         0.141809   \n",
      "2531             378.071159  ...         1.840030         0.297765   \n",
      "2532            1253.005365  ...         0.754124         0.134918   \n",
      "\n",
      "      chroma12_3_grad  gender_F  language_ENG  language_EST  language_FRE  \\\n",
      "0            7.791005         0             1             0             0   \n",
      "1            1.266005         1             1             0             0   \n",
      "2            0.143456         0             0             0             0   \n",
      "3            0.499443         0             1             0             0   \n",
      "4            1.376152         0             0             0             0   \n",
      "...               ...       ...           ...           ...           ...   \n",
      "2528         0.446257         1             1             0             0   \n",
      "2529         1.058278         1             0             1             0   \n",
      "2530         1.264284         0             1             0             0   \n",
      "2531         2.249145         1             0             0             0   \n",
      "2532         1.274655         1             1             0             0   \n",
      "\n",
      "      language_GER  language_GRE  language_ITA  \n",
      "0                0             0             0  \n",
      "1                0             0             0  \n",
      "2                0             0             1  \n",
      "3                0             0             0  \n",
      "4                0             0             1  \n",
      "...            ...           ...           ...  \n",
      "2528             0             0             0  \n",
      "2529             0             0             0  \n",
      "2530             0             0             0  \n",
      "2531             1             0             0  \n",
      "2532             0             0             0  \n",
      "\n",
      "[2533 rows x 627 columns]\n"
     ]
    }
   ],
   "source": [
    "filename = '110524.csv'\n",
    "\n",
    "dfin = pd.read_csv(filename)\n",
    "dfin = pd.get_dummies(dfin, columns=['gender'])\n",
    "langdata = dfin[['language']]\n",
    "dfin = pd.get_dummies(dfin, columns=['language'])\n",
    "\n",
    "#drop the empty column at the beginning\n",
    "df = dfin.drop('Unnamed: 0',axis = 1)\n",
    "#encode gender as a 0/1\n",
    "\n",
    "\n",
    "#remove categorical columns except the column of interest, one gender\n",
    "droplist= ['file_name', 'gender_M'] #since gender M is 100% linearly dependent of gender F \n",
    "df = df.drop(droplist, axis=1)\n",
    "\n",
    "#separate out the known labels from the predictors\n",
    "labcol = ['emotion']\n",
    "labels = df[labcol]\n",
    "features = df.drop(labcol, axis=1)\n",
    "\n",
    "print(labels)\n",
    "print(features)\n"
   ]
  },
  {
   "cell_type": "markdown",
   "id": "9a3e7bc7",
   "metadata": {},
   "source": [
    "## Center and Scale"
   ]
  },
  {
   "cell_type": "code",
   "execution_count": 5,
   "id": "457960b3",
   "metadata": {},
   "outputs": [
    {
     "data": {
      "text/plain": [
       "array([[ 0.        , -0.4083423 , -0.88515553, ..., -0.3382104 ,\n",
       "        -0.4083423 , -0.30686881],\n",
       "       [ 0.        , -0.4083423 , -0.21070477, ..., -0.3382104 ,\n",
       "        -0.4083423 , -0.30686881],\n",
       "       [ 0.        , -0.4083423 ,  0.33950506, ..., -0.3382104 ,\n",
       "        -0.4083423 ,  3.25872154],\n",
       "       [ 0.        , -0.4083423 , -0.15745866, ..., -0.3382104 ,\n",
       "        -0.4083423 , -0.30686881],\n",
       "       [ 0.        , -0.4083423 , -0.08646384, ..., -0.3382104 ,\n",
       "        -0.4083423 ,  3.25872154]])"
      ]
     },
     "execution_count": 5,
     "metadata": {},
     "output_type": "execute_result"
    }
   ],
   "source": [
    "scaler = StandardScaler()\n",
    "scaled_features = scaler.fit_transform(features)\n",
    "scaled_features[:5]"
   ]
  },
  {
   "cell_type": "markdown",
   "id": "7ab854d7",
   "metadata": {},
   "source": [
    "# K-means clustering"
   ]
  },
  {
   "cell_type": "code",
   "execution_count": 6,
   "id": "d2ccf643",
   "metadata": {},
   "outputs": [
    {
     "name": "stdout",
     "output_type": "stream",
     "text": [
      "The lowest SSE value 1403030.649310594\n",
      "Final locations of the centroid [[ 0.         -0.39453908 -0.49389444 ... -0.33025158 -0.39453908\n",
      "  -0.29825627]\n",
      " [ 0.          0.38412034  0.44248502 ...  0.31925647  0.38412034\n",
      "   0.27549263]\n",
      " [ 0.         -0.4083423  -0.45051554 ... -0.3382104  -0.4083423\n",
      "  -0.28515389]]\n",
      "The number of iterations required to converge 13\n"
     ]
    },
    {
     "data": {
      "text/plain": [
       "array([2, 2, 1, 2, 1])"
      ]
     },
     "execution_count": 6,
     "metadata": {},
     "output_type": "execute_result"
    }
   ],
   "source": [
    "#make modeling\n",
    "kmeans = KMeans(\n",
    "    init=\"random\", #initialization technique\n",
    "    n_clusters=3, # num of clusters\n",
    "    n_init=10, #of starts to run\n",
    "    max_iter=300, # num of iterations for each start\n",
    ")\n",
    "\n",
    "#make model for our input\n",
    "kmeans.fit(scaled_features)\n",
    "\n",
    "#results of the clustering:\n",
    "print(\"The lowest SSE value\", kmeans.inertia_)\n",
    "print(\"Final locations of the centroid\", kmeans.cluster_centers_)\n",
    "print(\"The number of iterations required to converge\", kmeans.n_iter_)\n",
    "#some cluster results:\n",
    "kmeans.labels_[:5]"
   ]
  },
  {
   "cell_type": "code",
   "execution_count": 7,
   "id": "6d079c6a",
   "metadata": {},
   "outputs": [
    {
     "data": {
      "image/png": "[encoded data removed]",
      "text/plain": [
       "<Figure size 432x288 with 2 Axes>"
      ]
     },
     "metadata": {
      "needs_background": "light"
     },
     "output_type": "display_data"
    }
   ],
   "source": [
    "#Try Elbow Method\n",
    "kmeans_kwargs = {\n",
    "    \"init\": \"random\",\n",
    "    \"n_init\": 40,\n",
    "    \"max_iter\": 300\n",
    "}\n",
    "\n",
    "# A list holds the SSE values for each k\n",
    "sse = []\n",
    "# A list holds the silhouette coefficients for each k\n",
    "silhouette_coeffs = []\n",
    "tryks = 15 #max number of clusters to try\n",
    "\n",
    "for k in range(2, tryks):\n",
    "    kmeans = KMeans(n_clusters=k, **kmeans_kwargs)\n",
    "    kmeans.fit(scaled_features)\n",
    "    sse.append(kmeans.inertia_)\n",
    "    score = silhouette_score(scaled_features, kmeans.labels_)\n",
    "    silhouette_coeffs.append(score)\n",
    "    \n",
    "#Make Elbow plot, want turning point\n",
    "plt.subplot(2, 1, 1)\n",
    "plt.plot(range(2, tryks), sse)\n",
    "plt.xticks(range(2, tryks))\n",
    "plt.xlabel(\"# Clusters\")\n",
    "plt.ylabel(\"SSE\")\n",
    "\n",
    "#Make silhouette plot, want max score\n",
    "plt.subplot(2, 1, 2)\n",
    "plt.plot(range(2, tryks), silhouette_coeffs)\n",
    "plt.xticks(range(2, tryks))\n",
    "plt.xlabel(\"# Clusters\")\n",
    "plt.ylabel(\"Silhouette Coefficient\")\n",
    "plt.show()"
   ]
  },
  {
   "cell_type": "code",
   "execution_count": 8,
   "id": "217acd50",
   "metadata": {},
   "outputs": [
    {
     "name": "stdout",
     "output_type": "stream",
     "text": [
      "6\n"
     ]
    }
   ],
   "source": [
    "#find elbow mathematically:\n",
    "kl = KneeLocator(\n",
    "    range(2, tryks), sse, curve=\"convex\", direction=\"decreasing\"\n",
    ")\n",
    "\n",
    "kelbow = kl.elbow\n",
    "print(kelbow)"
   ]
  },
  {
   "cell_type": "code",
   "execution_count": 9,
   "id": "0c5c5516",
   "metadata": {},
   "outputs": [
    {
     "name": "stdout",
     "output_type": "stream",
     "text": [
      "2\n"
     ]
    }
   ],
   "source": [
    "#find max cluster number mathematically\n",
    "maxsc = max(silhouette_coeffs)\n",
    "katmaxsc = silhouette_coeffs.index(maxsc)+2\n",
    "print(katmaxsc)"
   ]
  },
  {
   "cell_type": "markdown",
   "id": "2755e347",
   "metadata": {},
   "source": [
    "Do these clusters correspond with any emotions?"
   ]
  },
  {
   "cell_type": "code",
   "execution_count": 10,
   "id": "ee9feb97",
   "metadata": {},
   "outputs": [
    {
     "name": "stdout",
     "output_type": "stream",
     "text": [
      "     emotion  elbow  silhouette\n",
      "0        ANG      0           0\n",
      "1        SAD      5           0\n",
      "2        ANG      2           1\n",
      "3        SAD      4           0\n",
      "4        ANG      2           1\n",
      "...      ...    ...         ...\n",
      "2528     HAP      1           0\n",
      "2529     HAP      3           1\n",
      "2530     SAD      4           0\n",
      "2531     HAP      3           1\n",
      "2532     HAP      1           0\n",
      "\n",
      "[2533 rows x 3 columns]\n"
     ]
    },
    {
     "name": "stderr",
     "output_type": "stream",
     "text": [
      "<ipython-input-10-6e76646e0493>:8: SettingWithCopyWarning: \n",
      "A value is trying to be set on a copy of a slice from a DataFrame.\n",
      "Try using .loc[row_indexer,col_indexer] = value instead\n",
      "\n",
      "See the caveats in the documentation: https://pandas.pydata.org/pandas-docs/stable/user_guide/indexing.html#returning-a-view-versus-a-copy\n",
      "  labels['elbow'] = elbowclusters\n",
      "<ipython-input-10-6e76646e0493>:9: SettingWithCopyWarning: \n",
      "A value is trying to be set on a copy of a slice from a DataFrame.\n",
      "Try using .loc[row_indexer,col_indexer] = value instead\n",
      "\n",
      "See the caveats in the documentation: https://pandas.pydata.org/pandas-docs/stable/user_guide/indexing.html#returning-a-view-versus-a-copy\n",
      "  labels['silhouette'] = silclusters\n"
     ]
    }
   ],
   "source": [
    "#Run with k from elbow method:\n",
    "kmeanselbow = KMeans(n_clusters=kelbow, **kmeans_kwargs)\n",
    "elbowclusters = kmeanselbow.fit_predict(scaled_features)\n",
    "#Run with k from silhouette coeffs method:\n",
    "kmeanssil = KMeans(n_clusters=katmaxsc, **kmeans_kwargs)\n",
    "silclusters = kmeanssil.fit_predict(scaled_features)\n",
    "\n",
    "labels['elbow'] = elbowclusters\n",
    "labels['silhouette'] = silclusters\n",
    "print(labels)"
   ]
  },
  {
   "cell_type": "code",
   "execution_count": 12,
   "id": "b580b45f",
   "metadata": {},
   "outputs": [
    {
     "name": "stdout",
     "output_type": "stream",
     "text": [
      "  emotion  silhouette  count\n",
      "0     ANG           0    405\n",
      "1     ANG           1    482\n",
      "2     HAP           0    414\n",
      "3     HAP           1    418\n",
      "4     SAD           0    409\n",
      "5     SAD           1    405\n"
     ]
    }
   ],
   "source": [
    "#now compare\n",
    "grouped0 = labels.groupby(['emotion', 'elbow']).size().reset_index(name='count')\n",
    "grouped1 = labels.groupby(['emotion', 'silhouette']).size().reset_index(name='count')\n",
    "\n",
    "print(grouped1)"
   ]
  },
  {
   "cell_type": "markdown",
   "id": "325e616d",
   "metadata": {},
   "source": [
    "With 2 groups, there is no differentiation between the emotions"
   ]
  },
  {
   "cell_type": "code",
   "execution_count": 13,
   "id": "b9b6cbb5",
   "metadata": {},
   "outputs": [
    {
     "name": "stdout",
     "output_type": "stream",
     "text": [
      "   emotion  elbow  count\n",
      "0      ANG      0    209\n",
      "1      ANG      1    198\n",
      "2      ANG      2    327\n",
      "3      ANG      3    152\n",
      "4      ANG      5      1\n",
      "5      HAP      0    199\n",
      "6      HAP      1    202\n",
      "7      HAP      2    222\n",
      "8      HAP      3    196\n",
      "9      HAP      4     12\n",
      "10     HAP      5      1\n",
      "11     SAD      0      6\n",
      "12     SAD      1      1\n",
      "13     SAD      2     65\n",
      "14     SAD      3    339\n",
      "15     SAD      4    203\n",
      "16     SAD      5    200\n"
     ]
    }
   ],
   "source": [
    "print(grouped0)"
   ]
  },
  {
   "cell_type": "markdown",
   "id": "aa6db2c3",
   "metadata": {},
   "source": [
    "With more groups, there is some differentiation. Let's get a better look."
   ]
  },
  {
   "cell_type": "code",
   "execution_count": 14,
   "id": "bd7dfc19",
   "metadata": {},
   "outputs": [
    {
     "data": {
      "image/png": "[encoded data removed]",
      "text/plain": [
       "<Figure size 432x288 with 2 Axes>"
      ]
     },
     "metadata": {
      "needs_background": "light"
     },
     "output_type": "display_data"
    }
   ],
   "source": [
    "grouped0['count'] = grouped0['count'].astype(int) #avoid float error\n",
    "grouped0['elbow'] = grouped0['elbow'].astype(str) #avoid float error\n",
    "heatmap_data = grouped0.pivot('elbow', 'emotion', 'count')\n",
    "hm = sns.heatmap(heatmap_data, cmap=\"PuBuGn\")\n",
    "plt.title('Relationship Between Emotion and Cluster Number')\n",
    "hm.set_ylabel('Cluster Number')\n",
    "plt.show()"
   ]
  },
  {
   "cell_type": "markdown",
   "id": "f011a1dc",
   "metadata": {},
   "source": [
    "Do these clusters correspond with any languages?"
   ]
  },
  {
   "cell_type": "code",
   "execution_count": 20,
   "id": "7d01c5af",
   "metadata": {},
   "outputs": [
    {
     "name": "stdout",
     "output_type": "stream",
     "text": [
      "     language  elbow  silhouette\n",
      "0         ENG      3           0\n",
      "1         ENG      1           0\n",
      "2         ITA      5           1\n",
      "3         ENG      1           0\n",
      "4         ITA      5           1\n",
      "...       ...    ...         ...\n",
      "2528      ENG      2           0\n",
      "2529      EST      4           1\n",
      "2530      ENG      1           0\n",
      "2531      GER      4           1\n",
      "2532      ENG      2           0\n",
      "\n",
      "[2533 rows x 3 columns]\n"
     ]
    }
   ],
   "source": [
    "#Run with k from elbow method:\n",
    "kmeanselbow = KMeans(n_clusters=kelbow, **kmeans_kwargs)\n",
    "elbowclusters = kmeanselbow.fit_predict(scaled_features)\n",
    "#Run with k from silhouette coeffs method:\n",
    "kmeanssil = KMeans(n_clusters=katmaxsc, **kmeans_kwargs)\n",
    "silclusters = kmeanssil.fit_predict(scaled_features)\n",
    "\n",
    "langdata['elbow'] = elbowclusters\n",
    "langdata['silhouette'] = silclusters\n",
    "print(langdata)"
   ]
  },
  {
   "cell_type": "code",
   "execution_count": 21,
   "id": "b461fc46",
   "metadata": {},
   "outputs": [
    {
     "name": "stdout",
     "output_type": "stream",
     "text": [
      "  language  silhouette  count\n",
      "0      ENG           0   1199\n",
      "1      EST           0      6\n",
      "2      EST           1    380\n",
      "3      FRE           0     14\n",
      "4      FRE           1     94\n",
      "5      GER           0      1\n",
      "6      GER           1    259\n",
      "7      GRE           1    362\n",
      "8      ITA           0      8\n",
      "9      ITA           1    210\n"
     ]
    }
   ],
   "source": [
    "#now compare\n",
    "groupedl0 = langdata.groupby(['language', 'elbow']).size().reset_index(name='count')\n",
    "groupedl1 = langdata.groupby(['language', 'silhouette']).size().reset_index(name='count')\n",
    "\n",
    "print(groupedl1)"
   ]
  },
  {
   "cell_type": "markdown",
   "id": "084158f0",
   "metadata": {},
   "source": [
    "With 2 clusters, there does seem to be a difference between the languages."
   ]
  },
  {
   "cell_type": "code",
   "execution_count": 23,
   "id": "8d37e5c8",
   "metadata": {},
   "outputs": [
    {
     "data": {
      "image/png": "[encoded data removed]",
      "text/plain": [
       "<Figure size 432x288 with 2 Axes>"
      ]
     },
     "metadata": {
      "needs_background": "light"
     },
     "output_type": "display_data"
    }
   ],
   "source": [
    "groupedl1['count'] = groupedl1['count'].astype(int) #avoid float error\n",
    "groupedl1['silhouette'] = groupedl1['silhouette'].astype(str) #avoid float error\n",
    "heatmap_data = groupedl1.pivot('silhouette', 'language', 'count')\n",
    "hm = sns.heatmap(heatmap_data, cmap=\"PuBuGn\")\n",
    "plt.title('Relationship Between Language and Cluster Number')\n",
    "hm.set_ylabel('Cluster Number')\n",
    "plt.show()"
   ]
  },
  {
   "cell_type": "code",
   "execution_count": 24,
   "id": "4304b776",
   "metadata": {},
   "outputs": [
    {
     "name": "stdout",
     "output_type": "stream",
     "text": [
      "   language  elbow  count\n",
      "0       ENG      0    211\n",
      "1       ENG      1    594\n",
      "2       ENG      2    196\n",
      "3       ENG      3    198\n",
      "4       EST      1      1\n",
      "5       EST      3     11\n",
      "6       EST      4    372\n",
      "7       EST      5      2\n",
      "8       FRE      0      2\n",
      "9       FRE      1      5\n",
      "10      FRE      3      1\n",
      "11      FRE      4      7\n",
      "12      FRE      5     93\n",
      "13      GER      0      1\n",
      "14      GER      3      3\n",
      "15      GER      4     75\n",
      "16      GER      5    181\n",
      "17      GRE      4    121\n",
      "18      GRE      5    241\n",
      "19      ITA      0      1\n",
      "20      ITA      1      2\n",
      "21      ITA      3      4\n",
      "22      ITA      4    119\n",
      "23      ITA      5     92\n"
     ]
    }
   ],
   "source": [
    "print(groupedl0)"
   ]
  },
  {
   "cell_type": "code",
   "execution_count": 26,
   "id": "69e4c470",
   "metadata": {},
   "outputs": [
    {
     "data": {
      "image/png": "[encoded data removed]",
      "text/plain": [
       "<Figure size 432x288 with 2 Axes>"
      ]
     },
     "metadata": {
      "needs_background": "light"
     },
     "output_type": "display_data"
    }
   ],
   "source": [
    "groupedl0['count'] = groupedl0['count'].astype(int) #avoid float error\n",
    "groupedl0['elbow'] = groupedl0['elbow'].astype(str) #avoid float error\n",
    "heatmap_data = groupedl0.pivot('elbow', 'language', 'count')\n",
    "hm = sns.heatmap(heatmap_data, cmap=\"PuBuGn\")\n",
    "plt.title('Relationship Between Language and Cluster Number')\n",
    "hm.set_ylabel('Cluster Number')\n",
    "plt.show()"
   ]
  },
  {
   "cell_type": "markdown",
   "id": "a58b2682",
   "metadata": {},
   "source": [
    "There is a clear separation between languages."
   ]
  }
 ],
 "metadata": {
  "kernelspec": {
   "display_name": "Python 3",
   "language": "python",
   "name": "python3"
  },
  "language_info": {
   "codemirror_mode": {
    "name": "ipython",
    "version": 3
   },
   "file_extension": ".py",
   "mimetype": "text/x-python",
   "name": "python",
   "nbconvert_exporter": "python",
   "pygments_lexer": "ipython3",
   "version": "3.8.18"
  }
 },
 "nbformat": 4,
 "nbformat_minor": 5
}
