{
 "cells": [
  {
   "cell_type": "markdown",
   "id": "2dc5daf7",
   "metadata": {},
   "source": [
    "Randomly separates the file list into train and test sets, while maintaining the demographics of the full set of files."
   ]
  },
  {
   "cell_type": "code",
   "execution_count": 1,
   "id": "f1772981",
   "metadata": {},
   "outputs": [],
   "source": [
    "#imports\n",
    "import csv \n",
    "import random\n",
    "import pandas as pd\n",
    "import numpy as np"
   ]
  },
  {
   "cell_type": "code",
   "execution_count": 2,
   "id": "b54afdba",
   "metadata": {},
   "outputs": [],
   "source": [
    "#get and shuffle the file\n",
    "filename = '110524.csv'\n",
    "\n",
    "df = pd.read_csv(filename)\n",
    "\n",
    "# Shuffle the DataFrame rows randomly\n",
    "df_shuffled = df.sample(frac=1, random_state=random.seed())\n"
   ]
  },
  {
   "cell_type": "code",
   "execution_count": 3,
   "id": "7e7d1244",
   "metadata": {},
   "outputs": [
    {
     "name": "stdout",
     "output_type": "stream",
     "text": [
      "   language emotion  count  dset\n",
      "0       ENG     ANG    399    39\n",
      "1       ENG     HAP    400    40\n",
      "2       ENG     SAD    400    40\n",
      "3       EST     ANG    131    13\n",
      "4       EST     HAP    134    13\n",
      "5       EST     SAD    121    12\n",
      "6       FRE     ANG     36     3\n",
      "7       FRE     HAP     36     3\n",
      "8       FRE     SAD     36     3\n",
      "9       GER     ANG    127    12\n",
      "10      GER     HAP     71     7\n",
      "11      GER     SAD     62     6\n",
      "12      GRE     ANG    121    12\n",
      "13      GRE     HAP    119    11\n",
      "14      GRE     SAD    122    12\n",
      "15      ITA     ANG     73     7\n",
      "16      ITA     HAP     72     7\n",
      "17      ITA     SAD     73     7\n"
     ]
    }
   ],
   "source": [
    "#get statistics\n",
    "#counts = df.groupby(['language', 'emotion']).size()\n",
    "counts = df.groupby(['language', 'emotion']).size().reset_index(name='count')\n",
    "\n",
    "#define what percent of the data will be pulled out as test data\n",
    "pcttest = .1\n",
    "\n",
    "#define the distribution of files that we want in the final set\n",
    "counts['dset'] = (counts['count']*pcttest).astype(int)\n",
    "print(counts)"
   ]
  },
  {
   "cell_type": "code",
   "execution_count": 4,
   "id": "39ae2c6c",
   "metadata": {},
   "outputs": [
    {
     "name": "stdout",
     "output_type": "stream",
     "text": [
      "247\n"
     ]
    }
   ],
   "source": [
    "counts['movelist'] = 0 #set up row to store how many got moved\n",
    "testrows = [] #list of rows we want to remove\n",
    "\n",
    "#Make a list of the first rows that meet the criteria above\n",
    "for i in range(len(df_shuffled)):\n",
    "    lang = df_shuffled['language'].iloc[i]\n",
    "    emot = df_shuffled['emotion'].iloc[i]\n",
    "    #check to see if we need more of that combo\n",
    "    currentpull = counts.loc[(counts['language'] == lang) & (counts['emotion'] == emot), 'movelist'].item()\n",
    "    needed = counts.loc[(counts['language'] == lang) & (counts['emotion'] == emot), 'dset'].item()\n",
    "    if currentpull<needed:\n",
    "        #put this row in the list for the test set\n",
    "        testrows.append(i)\n",
    "        #update the the counts df\n",
    "        counts.loc[(counts['language'] == lang) & (counts['emotion'] == emot), 'movelist'] += 1\n",
    "print(len(testrows))"
   ]
  },
  {
   "cell_type": "code",
   "execution_count": 5,
   "id": "72b46b0c",
   "metadata": {},
   "outputs": [
    {
     "name": "stdout",
     "output_type": "stream",
     "text": [
      "247 2286\n",
      "   language emotion  count\n",
      "0       ENG     ANG     39\n",
      "1       ENG     HAP     40\n",
      "2       ENG     SAD     40\n",
      "3       EST     ANG     13\n",
      "4       EST     HAP     13\n",
      "5       EST     SAD     12\n",
      "6       FRE     ANG      3\n",
      "7       FRE     HAP      3\n",
      "8       FRE     SAD      3\n",
      "9       GER     ANG     12\n",
      "10      GER     HAP      7\n",
      "11      GER     SAD      6\n",
      "12      GRE     ANG     12\n",
      "13      GRE     HAP     11\n",
      "14      GRE     SAD     12\n",
      "15      ITA     ANG      7\n",
      "16      ITA     HAP      7\n",
      "17      ITA     SAD      7\n"
     ]
    }
   ],
   "source": [
    "#set up a data frame to receive the rows that we want moved\n",
    "# Create a new DataFrame to store the moved rows\n",
    "testset = df_shuffled.iloc[testrows]\n",
    "\n",
    "# Remove the moved rows from the original DataFrame\n",
    "trainset = df_shuffled.drop(testrows)\n",
    "\n",
    "print(len(testset), len(trainset))\n",
    "#check the test set distribution\n",
    "testcounts = testset.groupby(['language', 'emotion']).size().reset_index(name='count')\n",
    "print(testcounts)"
   ]
  },
  {
   "cell_type": "code",
   "execution_count": 89,
   "id": "0e3c152f",
   "metadata": {},
   "outputs": [],
   "source": [
    "# Write the two separate sets back to a CSV file\n",
    "trainset.to_csv('trainset.csv', index=False)\n",
    "testset.to_csv('testset.csv', index=False)"
   ]
  }
 ],
 "metadata": {
  "kernelspec": {
   "display_name": "Python 3",
   "language": "python",
   "name": "python3"
  },
  "language_info": {
   "codemirror_mode": {
    "name": "ipython",
    "version": 3
   },
   "file_extension": ".py",
   "mimetype": "text/x-python",
   "name": "python",
   "nbconvert_exporter": "python",
   "pygments_lexer": "ipython3",
   "version": "3.8.8"
  }
 },
 "nbformat": 4,
 "nbformat_minor": 5
}
