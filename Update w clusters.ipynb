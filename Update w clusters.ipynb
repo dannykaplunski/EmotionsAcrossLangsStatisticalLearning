{
 "cells": [
  {
   "cell_type": "markdown",
   "id": "4786397f-880c-4ab7-bd82-ca1bf12b973d",
   "metadata": {},
   "source": [
    "Code to pull in cluster data (mostly from chat gpt)"
   ]
  },
  {
   "cell_type": "code",
   "execution_count": 2,
   "id": "34105532-5320-4572-8da7-e75b4a5ecdf3",
   "metadata": {},
   "outputs": [
    {
     "name": "stdout",
     "output_type": "stream",
     "text": [
      "Merging complete and files saved.\n"
     ]
    }
   ],
   "source": [
    "import pandas as pd\n",
    "\n",
    "# Load the datasets\n",
    "train_set = pd.read_csv('train_set.csv')\n",
    "test_set = pd.read_csv('test_set.csv')\n",
    "outhierarchycluster = pd.read_csv('outhierarchycluster.csv')\n",
    "\n",
    "# Select relevant columns from outhierarchycluster\n",
    "columns_to_copy = ['file_name', 'kmeans_wlang_elbow', 'kmeans_wolang_elbow', 'kmeans_wlang_sil', 'kmeans_wolang_sil', 'cluster_by_hierarcal']\n",
    "\n",
    "# Ensure the column 'file_name' is present in all dataframes\n",
    "if 'file_name' in outhierarchycluster.columns:\n",
    "    # Subset the outhierarchycluster with the required columns\n",
    "    outhierarchycluster_subset = outhierarchycluster[columns_to_copy]\n",
    "\n",
    "    # Merge the dataframes on 'file_name'\n",
    "    train_set_merged = pd.merge(train_set, outhierarchycluster_subset, on='file_name', how='left')\n",
    "    test_set_merged = pd.merge(test_set, outhierarchycluster_subset, on='file_name', how='left')\n",
    "\n",
    "    # Save the merged dataframes back to CSV\n",
    "    train_set_merged.to_csv('train_set_wc.csv', index=False)\n",
    "    test_set_merged.to_csv('test_set_wc.csv', index=False)\n",
    "else:\n",
    "    print(\"Column 'file_name' not found in outhierarchycluster\")\n",
    "\n",
    "print(\"Merging complete and files saved.\")"
   ]
  },
  {
   "cell_type": "code",
   "execution_count": null,
   "id": "bc4feccc-4d3d-446c-a58a-b909412d4c23",
   "metadata": {},
   "outputs": [],
   "source": []
  }
 ],
 "metadata": {
  "kernelspec": {
   "display_name": "Python 3 (ipykernel)",
   "language": "python",
   "name": "python3"
  },
  "language_info": {
   "codemirror_mode": {
    "name": "ipython",
    "version": 3
   },
   "file_extension": ".py",
   "mimetype": "text/x-python",
   "name": "python",
   "nbconvert_exporter": "python",
   "pygments_lexer": "ipython3",
   "version": "3.11.7"
  }
 },
 "nbformat": 4,
 "nbformat_minor": 5
}
