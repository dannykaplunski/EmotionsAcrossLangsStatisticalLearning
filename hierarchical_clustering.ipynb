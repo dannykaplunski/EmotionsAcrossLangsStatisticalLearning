{
 "cells": [
  {
   "cell_type": "markdown",
   "id": "9a333084",
   "metadata": {},
   "source": [
    "Imports"
   ]
  },
  {
   "cell_type": "code",
   "execution_count": 1,
   "id": "4acfb8ba",
   "metadata": {},
   "outputs": [
    {
     "name": "stderr",
     "output_type": "stream",
     "text": [
      "C:\\Users\\USER\\anaconda3\\lib\\site-packages\\scipy\\__init__.py:138: UserWarning: A NumPy version >=1.16.5 and <1.23.0 is required for this version of SciPy (detected version 1.24.3)\n",
      "  warnings.warn(f\"A NumPy version >={np_minversion} and <{np_maxversion} is required for this version of \"\n"
     ]
    }
   ],
   "source": [
    "import matplotlib.pyplot as plt\n",
    "import numpy as np\n",
    "import pandas as pd\n",
    "import seaborn as sns\n",
    "\n",
    "from kneed import KneeLocator\n",
    "from sklearn.datasets import make_blobs\n",
    "from sklearn.cluster import KMeans\n",
    "from sklearn.metrics import silhouette_score\n",
    "from sklearn.preprocessing import StandardScaler\n",
    "from sklearn.cluster import KMeans\n",
    "from sklearn.decomposition import PCA\n",
    "from sklearn.metrics import silhouette_score, adjusted_rand_score\n",
    "from sklearn.pipeline import Pipeline\n",
    "from sklearn.preprocessing import LabelEncoder, MinMaxScaler"
   ]
  },
  {
   "cell_type": "markdown",
   "id": "dbf9322f",
   "metadata": {},
   "source": [
    "# Get data"
   ]
  },
  {
   "cell_type": "code",
   "execution_count": 2,
   "id": "aede70c7",
   "metadata": {},
   "outputs": [
    {
     "name": "stdout",
     "output_type": "stream",
     "text": [
      "     emotion\n",
      "0        ANG\n",
      "1        SAD\n",
      "2        ANG\n",
      "3        SAD\n",
      "4        ANG\n",
      "...      ...\n",
      "2528     HAP\n",
      "2529     HAP\n",
      "2530     SAD\n",
      "2531     HAP\n",
      "2532     HAP\n",
      "\n",
      "[2533 rows x 1 columns]\n",
      "      sample_rate  bit_depth  duration  syllabic_rate  zcr_mean   zcr_std  \\\n",
      "0           22050         16  1.439637       0.694619  0.124574  0.139607   \n",
      "1           22050         16  2.321995       0.430664  0.148597  0.217951   \n",
      "2           22050         16  3.041814       0.328751  0.204938  0.114941   \n",
      "3           22050         16  2.391655       0.418120  0.105257  0.164129   \n",
      "4           22050         16  2.484535       0.402490  0.188427  0.075686   \n",
      "...           ...        ...       ...            ...       ...       ...   \n",
      "2528        22050         16  2.113016       0.473257  0.147180  0.192641   \n",
      "2529        22050         16  2.554195       0.391513  0.069785  0.078659   \n",
      "2530        22050         16  2.254331       0.443591  0.080342  0.133835   \n",
      "2531        22050         16  1.486077       0.672913  0.077757  0.078475   \n",
      "2532        22050         16  1.857596       0.538330  0.205295  0.244933   \n",
      "\n",
      "      zcr_frequncy  mean_spectral_envelope  median_spectral_envelope  \\\n",
      "0         0.694619             2473.625757               1921.640692   \n",
      "1         0.430664             2522.187384               1736.391260   \n",
      "2         0.328751             3089.715581               2730.327215   \n",
      "3         0.418120             1866.819458                938.745038   \n",
      "4         0.402490             2904.748432               2826.918473   \n",
      "...            ...                     ...                       ...   \n",
      "2528      0.473257             2875.837071               2386.423644   \n",
      "2529      0.391513             1705.048001               1167.464651   \n",
      "2530      0.443591             1737.380085               1145.334125   \n",
      "2531      0.672913             1643.737342               1423.866049   \n",
      "2532      0.538330             3290.980952               2393.176831   \n",
      "\n",
      "      min_spectral_envelope  ...  chroma11_3_grad  chroma12_0_diff  \\\n",
      "0                427.937143  ...         3.278239        -0.242267   \n",
      "1                312.793587  ...         1.320429        -0.355029   \n",
      "2               1461.447184  ...         0.351455         0.187053   \n",
      "3                599.820393  ...         0.701356        -0.308251   \n",
      "4               1910.006091  ...         0.946561         0.215916   \n",
      "...                     ...  ...              ...              ...   \n",
      "2528             792.120516  ...         0.622273         0.480033   \n",
      "2529             685.368084  ...         1.104304         0.125428   \n",
      "2530             315.048198  ...         1.097483        -0.087818   \n",
      "2531             378.071159  ...         1.442058         0.528708   \n",
      "2532            1253.005365  ...         0.709161         0.137838   \n",
      "\n",
      "      chroma12_0_grad  chroma12_1_diff  chroma12_1_grad  chroma12_2_diff  \\\n",
      "0            0.682902        -0.042035         0.947850         0.046907   \n",
      "1            0.538374         0.269553         1.539610        -0.070592   \n",
      "2            1.666182        -0.052619         0.842175         0.235822   \n",
      "3            0.680885         0.590897         2.575476         0.105776   \n",
      "4            2.381721        -0.305252         0.338591         0.055338   \n",
      "...               ...              ...              ...              ...   \n",
      "2528         4.533079        -0.270366         0.334458         0.177011   \n",
      "2529         1.208655         0.322650         2.158626        -0.332550   \n",
      "2530         0.892246         0.413023         2.027515        -0.276424   \n",
      "2531         3.216721        -0.748006         0.241769         0.450374   \n",
      "2532         1.344163        -0.071688         0.848180        -0.153954   \n",
      "\n",
      "      chroma12_2_grad  chroma12_3_diff  chroma12_3_grad  gender_F  \n",
      "0            1.061791         0.661701         7.791005         0  \n",
      "1            0.876181         0.119791         1.266005         1  \n",
      "2            3.416683        -0.582636         0.143456         0  \n",
      "3            1.392804        -0.269884         0.499443         0  \n",
      "4            1.136240         0.111024         1.376152         0  \n",
      "...               ...              ...              ...       ...  \n",
      "2528         1.772219        -0.284435         0.446257         1  \n",
      "2529         0.455752         0.033649         1.058278         1  \n",
      "2530         0.592528         0.141809         1.264284         0  \n",
      "2531         1.840030         0.297765         2.249145         1  \n",
      "2532         0.754124         0.134918         1.274655         1  \n",
      "\n",
      "[2533 rows x 621 columns]\n"
     ]
    }
   ],
   "source": [
    "filename = '110524.csv'\n",
    "\n",
    "dfin = pd.read_csv(filename)\n",
    "dfin = pd.get_dummies(dfin, columns=['gender'])\n",
    "\n",
    "#drop the empty column at the beginning\n",
    "df = dfin.drop('Unnamed: 0',axis = 1)\n",
    "#encode gender as a 0/1\n",
    "\n",
    "\n",
    "#remove categorical columns except the column of interest and  one gender\n",
    "droplist= ['file_name', 'language', 'gender_M'] #since gender M is 100% linearly dependent of gender F \n",
    "df = df.drop(droplist, axis=1)\n",
    "\n",
    "#separate out the known labels from the predictors\n",
    "labcol = ['emotion']\n",
    "labels = df[labcol]\n",
    "features = df.drop(labcol, axis=1)\n",
    "\n",
    "print(labels)\n",
    "print(features)\n"
   ]
  },
  {
   "cell_type": "markdown",
   "id": "338f3a48",
   "metadata": {},
   "source": [
    "features, true_labels = make_blobs(\n",
    "    n_samples=200,\n",
    "    centers=3,\n",
    "    cluster_std=2.75,\n",
    "    random_state=42\n",
    ")\n",
    "print(features[:5])\n",
    "print(true_labels[:5])"
   ]
  },
  {
   "cell_type": "markdown",
   "id": "9a3e7bc7",
   "metadata": {},
   "source": [
    "## Center and Scale"
   ]
  },
  {
   "cell_type": "code",
   "execution_count": 3,
   "id": "457960b3",
   "metadata": {},
   "outputs": [
    {
     "data": {
      "text/plain": [
       "array([[ 0.        , -0.4083423 , -0.88515553, ...,  2.56436192,\n",
       "         6.27434746, -1.17215427],\n",
       "       [ 0.        , -0.4083423 , -0.21070477, ...,  0.39388066,\n",
       "         0.01900058,  0.85313002],\n",
       "       [ 0.        , -0.4083423 ,  0.33950506, ..., -2.4195102 ,\n",
       "        -1.0571579 , -1.17215427],\n",
       "       [ 0.        , -0.4083423 , -0.15745866, ..., -1.16686043,\n",
       "        -0.71588184, -1.17215427],\n",
       "       [ 0.        , -0.4083423 , -0.08646384, ...,  0.35876643,\n",
       "         0.12459563, -1.17215427]])"
      ]
     },
     "execution_count": 3,
     "metadata": {},
     "output_type": "execute_result"
    }
   ],
   "source": [
    "scaler = StandardScaler()\n",
    "scaled_features = scaler.fit_transform(features)\n",
    "scaled_features[:5]"
   ]
  },
  {
   "cell_type": "markdown",
   "id": "7ab854d7",
   "metadata": {},
   "source": [
    "# K-means clustering"
   ]
  },
  {
   "cell_type": "code",
   "execution_count": 4,
   "id": "d2ccf643",
   "metadata": {},
   "outputs": [
    {
     "name": "stdout",
     "output_type": "stream",
     "text": [
      "The lowest SSE value 1391508.7520829153\n",
      "Final locations of the centroid [[ 0.          0.39089353  0.45503217 ... -0.20206807 -0.17027065\n",
      "   0.13869407]\n",
      " [ 0.         -0.4083423  -0.45858506 ...  0.1836015   0.21439361\n",
      "  -0.63468438]\n",
      " [ 0.         -0.39463838 -0.49270836 ...  0.2586474   0.09929503\n",
      "   0.83370283]]\n",
      "The number of iterations required to converge 13\n"
     ]
    },
    {
     "data": {
      "text/plain": [
       "array([1, 1, 0, 1, 0])"
      ]
     },
     "execution_count": 4,
     "metadata": {},
     "output_type": "execute_result"
    }
   ],
   "source": [
    "#make modeling\n",
    "kmeans = KMeans(\n",
    "    init=\"random\", #initialization technique\n",
    "    n_clusters=3, # num of clusters\n",
    "    n_init=10, #of starts to run\n",
    "    max_iter=300, # num of iterations for each start\n",
    ")\n",
    "\n",
    "#make model for our input\n",
    "kmeans.fit(scaled_features)\n",
    "\n",
    "#results of the clustering:\n",
    "print(\"The lowest SSE value\", kmeans.inertia_)\n",
    "print(\"Final locations of the centroid\", kmeans.cluster_centers_)\n",
    "print(\"The number of iterations required to converge\", kmeans.n_iter_)\n",
    "#some cluster results:\n",
    "kmeans.labels_[:5]"
   ]
  },
  {
   "cell_type": "code",
   "execution_count": 5,
   "id": "6d079c6a",
   "metadata": {},
   "outputs": [
    {
     "data": {
      "image/png": "[encoded data removed]",
      "text/plain": [
       "<Figure size 432x288 with 2 Axes>"
      ]
     },
     "metadata": {
      "needs_background": "light"
     },
     "output_type": "display_data"
    }
   ],
   "source": [
    "#Try Elbow Method\n",
    "kmeans_kwargs = {\n",
    "    \"init\": \"random\",\n",
    "    \"n_init\": 40,\n",
    "    \"max_iter\": 300\n",
    "}\n",
    "\n",
    "# A list holds the SSE values for each k\n",
    "sse = []\n",
    "# A list holds the silhouette coefficients for each k\n",
    "silhouette_coeffs = []\n",
    "tryks = 15 #max number of clusters to try\n",
    "\n",
    "for k in range(2, tryks):\n",
    "    kmeans = KMeans(n_clusters=k, **kmeans_kwargs)\n",
    "    kmeans.fit(scaled_features)\n",
    "    sse.append(kmeans.inertia_)\n",
    "    score = silhouette_score(scaled_features, kmeans.labels_)\n",
    "    silhouette_coeffs.append(score)\n",
    "    \n",
    "#Make Elbow plot, want turning point\n",
    "plt.subplot(2, 1, 1)\n",
    "plt.plot(range(2, tryks), sse)\n",
    "plt.xticks(range(2, tryks))\n",
    "plt.xlabel(\"# Clusters\")\n",
    "plt.ylabel(\"SSE\")\n",
    "\n",
    "#Make silhouette plot, want max score\n",
    "plt.subplot(2, 1, 2)\n",
    "plt.plot(range(2, tryks), silhouette_coeffs)\n",
    "plt.xticks(range(2, tryks))\n",
    "plt.xlabel(\"# Clusters\")\n",
    "plt.ylabel(\"Silhouette Coefficient\")\n",
    "plt.show()"
   ]
  },
  {
   "cell_type": "code",
   "execution_count": 6,
   "id": "217acd50",
   "metadata": {},
   "outputs": [
    {
     "name": "stdout",
     "output_type": "stream",
     "text": [
      "6\n"
     ]
    }
   ],
   "source": [
    "#find elbow mathematically:\n",
    "kl = KneeLocator(\n",
    "    range(2, tryks), sse, curve=\"convex\", direction=\"decreasing\"\n",
    ")\n",
    "\n",
    "kelbow = kl.elbow\n",
    "print(kelbow)"
   ]
  },
  {
   "cell_type": "code",
   "execution_count": 7,
   "id": "0c5c5516",
   "metadata": {},
   "outputs": [
    {
     "name": "stdout",
     "output_type": "stream",
     "text": [
      "2\n"
     ]
    }
   ],
   "source": [
    "#find max cluster number mathematically\n",
    "maxsc = max(silhouette_coeffs)\n",
    "katmaxsc = silhouette_coeffs.index(maxsc)+2\n",
    "print(katmaxsc)"
   ]
  },
  {
   "cell_type": "markdown",
   "id": "2755e347",
   "metadata": {},
   "source": [
    "Do these clusters correspond with any emotions?"
   ]
  },
  {
   "cell_type": "code",
   "execution_count": 8,
   "id": "ee9feb97",
   "metadata": {},
   "outputs": [
    {
     "name": "stdout",
     "output_type": "stream",
     "text": [
      "     emotion  elbow  silhouette\n",
      "0        ANG      0           1\n",
      "1        SAD      2           1\n",
      "2        ANG      4           0\n",
      "3        SAD      2           1\n",
      "4        ANG      4           0\n",
      "...      ...    ...         ...\n",
      "2528     HAP      3           1\n",
      "2529     HAP      5           0\n",
      "2530     SAD      2           1\n",
      "2531     HAP      5           0\n",
      "2532     HAP      3           1\n",
      "\n",
      "[2533 rows x 3 columns]\n"
     ]
    },
    {
     "name": "stderr",
     "output_type": "stream",
     "text": [
      "<ipython-input-8-6e76646e0493>:8: SettingWithCopyWarning: \n",
      "A value is trying to be set on a copy of a slice from a DataFrame.\n",
      "Try using .loc[row_indexer,col_indexer] = value instead\n",
      "\n",
      "See the caveats in the documentation: https://pandas.pydata.org/pandas-docs/stable/user_guide/indexing.html#returning-a-view-versus-a-copy\n",
      "  labels['elbow'] = elbowclusters\n",
      "<ipython-input-8-6e76646e0493>:9: SettingWithCopyWarning: \n",
      "A value is trying to be set on a copy of a slice from a DataFrame.\n",
      "Try using .loc[row_indexer,col_indexer] = value instead\n",
      "\n",
      "See the caveats in the documentation: https://pandas.pydata.org/pandas-docs/stable/user_guide/indexing.html#returning-a-view-versus-a-copy\n",
      "  labels['silhouette'] = silclusters\n"
     ]
    }
   ],
   "source": [
    "#Run with k from elbow method:\n",
    "kmeanselbow = KMeans(n_clusters=kelbow, **kmeans_kwargs)\n",
    "elbowclusters = kmeanselbow.fit_predict(scaled_features)\n",
    "#Run with k from silhouette coeffs method:\n",
    "kmeanssil = KMeans(n_clusters=katmaxsc, **kmeans_kwargs)\n",
    "silclusters = kmeanssil.fit_predict(scaled_features)\n",
    "\n",
    "labels['elbow'] = elbowclusters\n",
    "labels['silhouette'] = silclusters\n",
    "print(labels)"
   ]
  },
  {
   "cell_type": "code",
   "execution_count": 9,
   "id": "b580b45f",
   "metadata": {},
   "outputs": [
    {
     "name": "stdout",
     "output_type": "stream",
     "text": [
      "  emotion  silhouette  count\n",
      "0     ANG           0    481\n",
      "1     ANG           1    406\n",
      "2     HAP           0    414\n",
      "3     HAP           1    418\n",
      "4     SAD           0    402\n",
      "5     SAD           1    412\n"
     ]
    }
   ],
   "source": [
    "#now compare\n",
    "grouped0 = labels.groupby(['emotion', 'elbow']).size().reset_index(name='count')\n",
    "grouped1 = labels.groupby(['emotion', 'silhouette']).size().reset_index(name='count')\n",
    "\n",
    "print(grouped1)"
   ]
  },
  {
   "cell_type": "markdown",
   "id": "325e616d",
   "metadata": {},
   "source": [
    "With 2 groups, there is no differentiation between the emotions"
   ]
  },
  {
   "cell_type": "code",
   "execution_count": 10,
   "id": "b9b6cbb5",
   "metadata": {},
   "outputs": [
    {
     "name": "stdout",
     "output_type": "stream",
     "text": [
      "   emotion  elbow  count\n",
      "0      ANG      0    212\n",
      "1      ANG      1    199\n",
      "2      ANG      2      2\n",
      "3      ANG      4    320\n",
      "4      ANG      5    154\n",
      "5      HAP      0     10\n",
      "6      HAP      1      6\n",
      "7      HAP      2    202\n",
      "8      HAP      3    196\n",
      "9      HAP      4    213\n",
      "10     HAP      5    205\n",
      "11     SAD      0      3\n",
      "12     SAD      1      7\n",
      "13     SAD      2    397\n",
      "14     SAD      3      1\n",
      "15     SAD      4     61\n",
      "16     SAD      5    345\n"
     ]
    }
   ],
   "source": [
    "print(grouped0)"
   ]
  },
  {
   "cell_type": "markdown",
   "id": "aa6db2c3",
   "metadata": {},
   "source": [
    "With more groups, there is some differentiation. Let's get a better look."
   ]
  },
  {
   "cell_type": "code",
   "execution_count": 11,
   "id": "bd7dfc19",
   "metadata": {},
   "outputs": [
    {
     "data": {
      "image/png": "[encoded data removed]",
      "text/plain": [
       "<Figure size 432x288 with 2 Axes>"
      ]
     },
     "metadata": {
      "needs_background": "light"
     },
     "output_type": "display_data"
    }
   ],
   "source": [
    "grouped0['count'] = grouped0['count'].astype(int) #avoid float error\n",
    "grouped0['elbow'] = grouped0['elbow'].astype(str) #avoid float error\n",
    "heatmap_data = grouped0.pivot('elbow', 'emotion', 'count')\n",
    "hm = sns.heatmap(heatmap_data, cmap=\"PuBuGn\")\n",
    "plt.title('Relationship Between Emotion and Cluster Number')\n",
    "hm.set_ylabel('Cluster Number')\n",
    "plt.show()"
   ]
  },
  {
   "cell_type": "code",
   "execution_count": null,
   "id": "7d01c5af",
   "metadata": {},
   "outputs": [],
   "source": []
  }
 ],
 "metadata": {
  "kernelspec": {
   "display_name": "Python 3",
   "language": "python",
   "name": "python3"
  },
  "language_info": {
   "codemirror_mode": {
    "name": "ipython",
    "version": 3
   },
   "file_extension": ".py",
   "mimetype": "text/x-python",
   "name": "python",
   "nbconvert_exporter": "python",
   "pygments_lexer": "ipython3",
   "version": "3.8.8"
  }
 },
 "nbformat": 4,
 "nbformat_minor": 5
}
