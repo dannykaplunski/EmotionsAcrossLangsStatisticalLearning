{
 "cells": [
  {
   "cell_type": "markdown",
   "id": "9a333084",
   "metadata": {},
   "source": [
    "Imports"
   ]
  },
  {
   "cell_type": "code",
   "execution_count": 1,
   "id": "4acfb8ba",
   "metadata": {},
   "outputs": [],
   "source": [
    "import matplotlib.pyplot as plt\n",
    "import numpy as np\n",
    "import pandas as pd\n",
    "import seaborn as sns\n",
    "\n",
    "from kneed import KneeLocator\n",
    "from sklearn.datasets import make_blobs\n",
    "from sklearn.cluster import KMeans\n",
    "from sklearn.metrics import silhouette_score\n",
    "from sklearn.preprocessing import StandardScaler\n",
    "from sklearn.cluster import KMeans\n",
    "from sklearn.decomposition import PCA\n",
    "from sklearn.metrics import silhouette_score, adjusted_rand_score\n",
    "from sklearn.pipeline import Pipeline\n",
    "from sklearn.preprocessing import LabelEncoder, MinMaxScaler\n",
    "from scipy.stats import f_oneway"
   ]
  },
  {
   "cell_type": "markdown",
   "id": "dbf9322f",
   "metadata": {},
   "source": [
    "# Get data"
   ]
  },
  {
   "cell_type": "code",
   "execution_count": 2,
   "id": "aede70c7",
   "metadata": {},
   "outputs": [
    {
     "name": "stdout",
     "output_type": "stream",
     "text": [
      "     emotion\n",
      "0        ANG\n",
      "1        SAD\n",
      "2        ANG\n",
      "3        SAD\n",
      "4        ANG\n",
      "...      ...\n",
      "2528     HAP\n",
      "2529     HAP\n",
      "2530     SAD\n",
      "2531     HAP\n",
      "2532     HAP\n",
      "\n",
      "[2533 rows x 1 columns]\n",
      "      duration  syllabic_rate  zcr_mean   zcr_std  zcr_frequncy  \\\n",
      "0     1.439637       0.694619  0.124574  0.139607      0.694619   \n",
      "1     2.321995       0.430664  0.148597  0.217951      0.430664   \n",
      "2     3.041814       0.328751  0.204938  0.114941      0.328751   \n",
      "3     2.391655       0.418120  0.105257  0.164129      0.418120   \n",
      "4     2.484535       0.402490  0.188427  0.075686      0.402490   \n",
      "...        ...            ...       ...       ...           ...   \n",
      "2528  2.113016       0.473257  0.147180  0.192641      0.473257   \n",
      "2529  2.554195       0.391513  0.069785  0.078659      0.391513   \n",
      "2530  2.254331       0.443591  0.080342  0.133835      0.443591   \n",
      "2531  1.486077       0.672913  0.077757  0.078475      0.672913   \n",
      "2532  1.857596       0.538330  0.205295  0.244933      0.538330   \n",
      "\n",
      "      mean_spectral_envelope  median_spectral_envelope  min_spectral_envelope  \\\n",
      "0                2473.625757               1921.640692             427.937143   \n",
      "1                2522.187384               1736.391260             312.793587   \n",
      "2                3089.715581               2730.327215            1461.447184   \n",
      "3                1866.819458                938.745038             599.820393   \n",
      "4                2904.748432               2826.918473            1910.006091   \n",
      "...                      ...                       ...                    ...   \n",
      "2528             2875.837071               2386.423644             792.120516   \n",
      "2529             1705.048001               1167.464651             685.368084   \n",
      "2530             1737.380085               1145.334125             315.048198   \n",
      "2531             1643.737342               1423.866049             378.071159   \n",
      "2532             3290.980952               2393.176831            1253.005365   \n",
      "\n",
      "      max_spectral_envelope  std_spectral_envelope  ...  chroma12_2_grad  \\\n",
      "0               6360.582768            1580.476901  ...         1.061791   \n",
      "1               8159.933823            2218.822544  ...         0.876181   \n",
      "2               6285.178174            1111.755430  ...         3.416683   \n",
      "3               6021.890123            1793.779288  ...         1.392804   \n",
      "4               6030.670894             754.053827  ...         1.136240   \n",
      "...                     ...                    ...  ...              ...   \n",
      "2528            8304.398833            1815.730731  ...         1.772219   \n",
      "2529            6155.193043            1297.719899  ...         0.455752   \n",
      "2530            5915.850490            1522.074233  ...         0.592528   \n",
      "2531            5291.092400            1053.189293  ...         1.840030   \n",
      "2532            8360.541345            2089.494123  ...         0.754124   \n",
      "\n",
      "      chroma12_3_diff  chroma12_3_grad  gender_F  language_ENG  language_EST  \\\n",
      "0            0.661701         7.791005     False          True         False   \n",
      "1            0.119791         1.266005      True          True         False   \n",
      "2           -0.582636         0.143456     False         False         False   \n",
      "3           -0.269884         0.499443     False          True         False   \n",
      "4            0.111024         1.376152     False         False         False   \n",
      "...               ...              ...       ...           ...           ...   \n",
      "2528        -0.284435         0.446257      True          True         False   \n",
      "2529         0.033649         1.058278      True         False          True   \n",
      "2530         0.141809         1.264284     False          True         False   \n",
      "2531         0.297765         2.249145      True         False         False   \n",
      "2532         0.134918         1.274655      True          True         False   \n",
      "\n",
      "      language_FRE  language_GER  language_GRE  language_ITA  \n",
      "0            False         False         False         False  \n",
      "1            False         False         False         False  \n",
      "2            False         False         False          True  \n",
      "3            False         False         False         False  \n",
      "4            False         False         False          True  \n",
      "...            ...           ...           ...           ...  \n",
      "2528         False         False         False         False  \n",
      "2529         False         False         False         False  \n",
      "2530         False         False         False         False  \n",
      "2531         False          True         False         False  \n",
      "2532         False         False         False         False  \n",
      "\n",
      "[2533 rows x 625 columns]\n"
     ]
    }
   ],
   "source": [
    "filename = '110524.csv'\n",
    "\n",
    "dfin = pd.read_csv(filename)\n",
    "#encode gender as a 0/1\n",
    "df = pd.get_dummies(dfin, columns=['gender'])\n",
    "#store the language labels separately\n",
    "langdata = df[['language']]\n",
    "df = pd.get_dummies(df, columns=['language'])\n",
    "\n",
    "#drop the empty column at the beginning\n",
    "df = df.drop('Unnamed: 0',axis = 1)\n",
    "\n",
    "\n",
    "\n",
    "#remove categorical columns except the column of interest, one gender\n",
    "droplist= ['file_name', 'gender_M', 'sample_rate', 'bit_depth'] #since gender M is 100% linearly dependent of gender F and the technical stuff is not relevant\n",
    "df = df.drop(droplist, axis=1)\n",
    "\n",
    "#separate out the known labels from the predictors\n",
    "labcol = ['emotion']\n",
    "labels = df[labcol]\n",
    "features = df.drop(labcol, axis=1)\n",
    "\n",
    "print(labels)\n",
    "print(features)\n"
   ]
  },
  {
   "cell_type": "markdown",
   "id": "9a3e7bc7",
   "metadata": {},
   "source": [
    "## Center and Scale"
   ]
  },
  {
   "cell_type": "code",
   "execution_count": 3,
   "id": "457960b3",
   "metadata": {},
   "outputs": [
    {
     "data": {
      "text/plain": [
       "array([[-0.88515553,  1.38490949, -0.0285825 , ..., -0.3382104 ,\n",
       "        -0.4083423 , -0.30686881],\n",
       "       [-0.21070477, -0.14328128,  0.43763899, ..., -0.3382104 ,\n",
       "        -0.4083423 , -0.30686881],\n",
       "       [ 0.33950506, -0.73331395,  1.53104189, ..., -0.3382104 ,\n",
       "        -0.4083423 ,  3.25872154],\n",
       "       [-0.15745866, -0.21590352, -0.40345375, ..., -0.3382104 ,\n",
       "        -0.4083423 , -0.30686881],\n",
       "       [-0.08646384, -0.30639854,  1.21061747, ..., -0.3382104 ,\n",
       "        -0.4083423 ,  3.25872154]])"
      ]
     },
     "execution_count": 3,
     "metadata": {},
     "output_type": "execute_result"
    }
   ],
   "source": [
    "scaler = StandardScaler()\n",
    "scaled_features = scaler.fit_transform(features)\n",
    "scaled_features[:5]"
   ]
  },
  {
   "cell_type": "markdown",
   "id": "7ab854d7",
   "metadata": {},
   "source": [
    "# K-means clustering"
   ]
  },
  {
   "cell_type": "code",
   "execution_count": 4,
   "id": "d2ccf643",
   "metadata": {},
   "outputs": [
    {
     "name": "stdout",
     "output_type": "stream",
     "text": [
      "The lowest SSE value 1400890.5072339005\n",
      "Final locations of the centroid [[-0.49389444  0.36698992  1.46226322 ... -0.33025158 -0.39453908\n",
      "  -0.29825627]\n",
      " [ 0.44248502 -0.37775151 -0.28535087 ...  0.31925647  0.38412034\n",
      "   0.27549263]\n",
      " [-0.45051554  0.41216521 -0.286226   ... -0.3382104  -0.4083423\n",
      "  -0.28515389]]\n",
      "The number of iterations required to converge 30\n"
     ]
    },
    {
     "data": {
      "text/plain": [
       "array([2, 2, 1, 2, 1])"
      ]
     },
     "execution_count": 4,
     "metadata": {},
     "output_type": "execute_result"
    }
   ],
   "source": [
    "#make modeling\n",
    "kmeans = KMeans(\n",
    "    init=\"random\", #initialization technique\n",
    "    n_clusters=3, # num of clusters\n",
    "    n_init=10, #of starts to run\n",
    "    max_iter=300, # num of iterations for each start\n",
    ")\n",
    "\n",
    "#make model for our input\n",
    "kmeans.fit(scaled_features)\n",
    "\n",
    "#results of the clustering:\n",
    "print(\"The lowest SSE value\", kmeans.inertia_)\n",
    "print(\"Final locations of the centroid\", kmeans.cluster_centers_)\n",
    "print(\"The number of iterations required to converge\", kmeans.n_iter_)\n",
    "#some cluster results:\n",
    "kmeans.labels_[:5]"
   ]
  },
  {
   "cell_type": "code",
   "execution_count": 5,
   "id": "6d079c6a",
   "metadata": {},
   "outputs": [
    {
     "data": {
      "image/png": "[encoded data removed]",
      "text/plain": [
       "<Figure size 640x480 with 2 Axes>"
      ]
     },
     "metadata": {},
     "output_type": "display_data"
    }
   ],
   "source": [
    "#Try Elbow Method\n",
    "kmeans_kwargs = {\n",
    "    \"init\": \"random\",\n",
    "    \"n_init\": 40,\n",
    "    \"max_iter\": 300\n",
    "}\n",
    "\n",
    "# A list holds the SSE values for each k\n",
    "sse = []\n",
    "# A list holds the silhouette coefficients for each k\n",
    "silhouette_coeffs = []\n",
    "tryks = 15 #max number of clusters to try\n",
    "\n",
    "for k in range(2, tryks):\n",
    "    kmeans = KMeans(n_clusters=k, **kmeans_kwargs)\n",
    "    kmeans.fit(scaled_features)\n",
    "    sse.append(kmeans.inertia_)\n",
    "    score = silhouette_score(scaled_features, kmeans.labels_)\n",
    "    silhouette_coeffs.append(score)\n",
    "    \n",
    "#Make Elbow plot, want turning point\n",
    "plt.subplot(2, 1, 1)\n",
    "plt.plot(range(2, tryks), sse)\n",
    "plt.xticks(range(2, tryks))\n",
    "plt.xlabel(\"# Clusters\")\n",
    "plt.ylabel(\"SSE\")\n",
    "\n",
    "#Make silhouette plot, want max score\n",
    "plt.subplot(2, 1, 2)\n",
    "plt.plot(range(2, tryks), silhouette_coeffs)\n",
    "plt.xticks(range(2, tryks))\n",
    "plt.xlabel(\"# Clusters\")\n",
    "plt.ylabel(\"Silhouette Coefficient\")\n",
    "plt.show()"
   ]
  },
  {
   "cell_type": "code",
   "execution_count": 6,
   "id": "217acd50",
   "metadata": {},
   "outputs": [
    {
     "name": "stdout",
     "output_type": "stream",
     "text": [
      "7\n"
     ]
    }
   ],
   "source": [
    "#find elbow mathematically:\n",
    "kl = KneeLocator(\n",
    "    range(2, tryks), sse, curve=\"convex\", direction=\"decreasing\"\n",
    ")\n",
    "\n",
    "kelbow = kl.elbow\n",
    "print(kelbow)"
   ]
  },
  {
   "cell_type": "code",
   "execution_count": 7,
   "id": "0c5c5516",
   "metadata": {},
   "outputs": [
    {
     "name": "stdout",
     "output_type": "stream",
     "text": [
      "2\n"
     ]
    }
   ],
   "source": [
    "#find max cluster number mathematically\n",
    "maxsc = max(silhouette_coeffs)\n",
    "katmaxsc = silhouette_coeffs.index(maxsc)+2\n",
    "print(katmaxsc)"
   ]
  },
  {
   "cell_type": "markdown",
   "id": "2755e347",
   "metadata": {},
   "source": [
    "Do these clusters correspond with any emotions?"
   ]
  },
  {
   "cell_type": "code",
   "execution_count": 8,
   "id": "ee9feb97",
   "metadata": {},
   "outputs": [
    {
     "name": "stdout",
     "output_type": "stream",
     "text": [
      "     emotion  elbow  silhouette\n",
      "0        ANG      4           1\n",
      "1        SAD      3           1\n",
      "2        ANG      0           0\n",
      "3        SAD      5           1\n",
      "4        ANG      0           0\n",
      "...      ...    ...         ...\n",
      "2528     HAP      1           1\n",
      "2529     HAP      6           0\n",
      "2530     SAD      5           1\n",
      "2531     HAP      6           0\n",
      "2532     HAP      1           1\n",
      "\n",
      "[2533 rows x 3 columns]\n"
     ]
    },
    {
     "name": "stderr",
     "output_type": "stream",
     "text": [
      "C:\\Users\\USER\\AppData\\Local\\Temp\\ipykernel_8944\\2770014292.py:8: SettingWithCopyWarning: \n",
      "A value is trying to be set on a copy of a slice from a DataFrame.\n",
      "Try using .loc[row_indexer,col_indexer] = value instead\n",
      "\n",
      "See the caveats in the documentation: https://pandas.pydata.org/pandas-docs/stable/user_guide/indexing.html#returning-a-view-versus-a-copy\n",
      "  labels['elbow'] = elbowclusters\n",
      "C:\\Users\\USER\\AppData\\Local\\Temp\\ipykernel_8944\\2770014292.py:9: SettingWithCopyWarning: \n",
      "A value is trying to be set on a copy of a slice from a DataFrame.\n",
      "Try using .loc[row_indexer,col_indexer] = value instead\n",
      "\n",
      "See the caveats in the documentation: https://pandas.pydata.org/pandas-docs/stable/user_guide/indexing.html#returning-a-view-versus-a-copy\n",
      "  labels['silhouette'] = silclusters\n"
     ]
    }
   ],
   "source": [
    "#Run with k from elbow method:\n",
    "kmeanselbow = KMeans(n_clusters=kelbow, **kmeans_kwargs)\n",
    "elbowclusters = kmeanselbow.fit_predict(scaled_features)\n",
    "#Run with k from silhouette coeffs method:\n",
    "kmeanssil = KMeans(n_clusters=katmaxsc, **kmeans_kwargs)\n",
    "silclusters = kmeanssil.fit_predict(scaled_features)\n",
    "\n",
    "labels['elbow'] = elbowclusters\n",
    "labels['silhouette'] = silclusters\n",
    "print(labels)"
   ]
  },
  {
   "cell_type": "code",
   "execution_count": 9,
   "id": "b580b45f",
   "metadata": {},
   "outputs": [
    {
     "name": "stdout",
     "output_type": "stream",
     "text": [
      "  emotion  silhouette  count  emottotals  percentage\n",
      "0     ANG           0    482         887   54.340474\n",
      "1     ANG           1    405         887   45.659526\n",
      "2     HAP           0    418         832   50.240385\n",
      "3     HAP           1    414         832   49.759615\n",
      "4     SAD           0    405         814   49.754300\n",
      "5     SAD           1    409         814   50.245700\n"
     ]
    }
   ],
   "source": [
    "#now compare\n",
    "emottotals = labels.groupby('emotion').size().reset_index(name='emottotals')\n",
    "\n",
    "grouped0 = labels.groupby(['emotion', 'elbow']).size().reset_index(name='count')\n",
    "grouped1 = labels.groupby(['emotion', 'silhouette']).size().reset_index(name='count')\n",
    "\n",
    "merged0 = pd.merge(grouped0, emottotals, on='emotion')\n",
    "merged0['percentage'] = (merged0['count'] / merged0['emottotals']) * 100\n",
    "\n",
    "merged1 = pd.merge(grouped1, emottotals, on='emotion')\n",
    "merged1['percentage'] = (merged1['count'] / merged1['emottotals']) * 100\n",
    "\n",
    "print(merged1)"
   ]
  },
  {
   "cell_type": "markdown",
   "id": "325e616d",
   "metadata": {},
   "source": [
    "With 2 groups, there is no differentiation between the emotions"
   ]
  },
  {
   "cell_type": "code",
   "execution_count": 10,
   "id": "b9b6cbb5",
   "metadata": {},
   "outputs": [
    {
     "name": "stdout",
     "output_type": "stream",
     "text": [
      "   emotion  elbow  count  emottotals  percentage\n",
      "0      ANG      0    326         887   36.753100\n",
      "1      ANG      1    198         887   22.322435\n",
      "2      ANG      2      7         887    0.789177\n",
      "3      ANG      3      1         887    0.112740\n",
      "4      ANG      4    208         887   23.449831\n",
      "5      ANG      5      1         887    0.112740\n",
      "6      ANG      6    146         887   16.459977\n",
      "7      HAP      0    223         832   26.802885\n",
      "8      HAP      1    202         832   24.278846\n",
      "9      HAP      2      9         832    1.081731\n",
      "10     HAP      3      1         832    0.120192\n",
      "11     HAP      4      6         832    0.721154\n",
      "12     HAP      5    203         832   24.399038\n",
      "13     HAP      6    188         832   22.596154\n",
      "14     SAD      0     64         814    7.862408\n",
      "15     SAD      1      1         814    0.122850\n",
      "16     SAD      2     18         814    2.211302\n",
      "17     SAD      3    201         814   24.692875\n",
      "18     SAD      4      2         814    0.245700\n",
      "19     SAD      5    202         814   24.815725\n",
      "20     SAD      6    326         814   40.049140\n"
     ]
    }
   ],
   "source": [
    "print(merged0)"
   ]
  },
  {
   "cell_type": "markdown",
   "id": "aa6db2c3",
   "metadata": {},
   "source": [
    "With more groups, there is some differentiation. Let's get a better look."
   ]
  },
  {
   "cell_type": "code",
   "execution_count": 11,
   "id": "bd7dfc19",
   "metadata": {},
   "outputs": [
    {
     "data": {
      "image/png": "[encoded data removed]",
      "text/plain": [
       "<Figure size 640x480 with 1 Axes>"
      ]
     },
     "metadata": {},
     "output_type": "display_data"
    }
   ],
   "source": [
    "merged0['count'] = merged0['count'].astype(int) #avoid float error\n",
    "merged0['elbow'] = merged0['elbow'].astype(str) #avoid float error\n",
    "\n",
    "plotdf = merged0.pivot(index='emotion', columns='elbow', values='percentage').fillna(0)\n",
    "\n",
    "plotdf.plot(kind='bar', stacked=True)\n",
    "plt.title('Relationship Between Emotion and Cluster Number')\n",
    "plt.ylabel('% of Recordings')\n",
    "plt.legend(title='Cluster Number', bbox_to_anchor=(1.05, 1), loc='upper left')\n",
    "plt.show()"
   ]
  },
  {
   "cell_type": "markdown",
   "id": "f011a1dc",
   "metadata": {},
   "source": [
    "Do these clusters correspond with any languages?"
   ]
  },
  {
   "cell_type": "code",
   "execution_count": 12,
   "id": "7d01c5af",
   "metadata": {},
   "outputs": [
    {
     "name": "stdout",
     "output_type": "stream",
     "text": [
      "     language  elbow  silhouette\n",
      "0         ENG      0           0\n",
      "1         ENG      3           0\n",
      "2         ITA      4           1\n",
      "3         ENG      6           0\n",
      "4         ITA      4           1\n",
      "...       ...    ...         ...\n",
      "2528      ENG      1           0\n",
      "2529      EST      2           1\n",
      "2530      ENG      6           0\n",
      "2531      GER      2           1\n",
      "2532      ENG      1           0\n",
      "\n",
      "[2533 rows x 3 columns]\n"
     ]
    }
   ],
   "source": [
    "#Run with k from elbow method:\n",
    "kmeanselbow = KMeans(n_clusters=kelbow, **kmeans_kwargs)\n",
    "elbowclusters = kmeanselbow.fit_predict(scaled_features)\n",
    "#Run with k from silhouette coeffs method:\n",
    "kmeanssil = KMeans(n_clusters=katmaxsc, **kmeans_kwargs)\n",
    "silclusters = kmeanssil.fit_predict(scaled_features)\n",
    "\n",
    "langdata['elbow'] = elbowclusters\n",
    "langdata['silhouette'] = silclusters\n",
    "print(langdata)"
   ]
  },
  {
   "cell_type": "code",
   "execution_count": 13,
   "id": "b461fc46",
   "metadata": {},
   "outputs": [
    {
     "name": "stdout",
     "output_type": "stream",
     "text": [
      "  language  silhouette  count  langtotals  percentage\n",
      "0      ENG           0   1199        1199  100.000000\n",
      "1      EST           0      6         386    1.554404\n",
      "2      EST           1    380         386   98.445596\n",
      "3      FRE           0     14         108   12.962963\n",
      "4      FRE           1     94         108   87.037037\n",
      "5      GER           0      1         260    0.384615\n",
      "6      GER           1    259         260   99.615385\n",
      "7      GRE           1    362         362  100.000000\n",
      "8      ITA           0      8         218    3.669725\n",
      "9      ITA           1    210         218   96.330275\n"
     ]
    }
   ],
   "source": [
    "#now compare\n",
    "langtotals = langdata.groupby('language').size().reset_index(name='langtotals')\n",
    "\n",
    "groupedl0 = langdata.groupby(['language', 'elbow']).size().reset_index(name='count')\n",
    "groupedl1 = langdata.groupby(['language', 'silhouette']).size().reset_index(name='count')\n",
    "\n",
    "mergedl0 = pd.merge(groupedl0, langtotals, on='language')\n",
    "mergedl0['percentage'] = (mergedl0['count'] / mergedl0['langtotals']) * 100\n",
    "\n",
    "mergedl1 = pd.merge(groupedl1, langtotals, on='language')\n",
    "mergedl1['percentage'] = (mergedl1['count'] / mergedl1['langtotals']) * 100\n",
    "\n",
    "print(mergedl1)"
   ]
  },
  {
   "cell_type": "markdown",
   "id": "084158f0",
   "metadata": {},
   "source": [
    "With 2 clusters, there does seem to be a difference between the languages."
   ]
  },
  {
   "cell_type": "code",
   "execution_count": 14,
   "id": "8d37e5c8",
   "metadata": {},
   "outputs": [
    {
     "data": {
      "image/png": "[encoded data removed]",
      "text/plain": [
       "<Figure size 640x480 with 1 Axes>"
      ]
     },
     "metadata": {},
     "output_type": "display_data"
    }
   ],
   "source": [
    "mergedl1['count'] = mergedl1['count'].astype(int) #avoid float error\n",
    "mergedl1['silhoutte'] = mergedl1['silhouette'].astype(str) #avoid float error\n",
    "\n",
    "plotdf = mergedl1.pivot(index='language', columns='silhouette', values='percentage').fillna(0)\n",
    "\n",
    "plotdf.plot(kind='bar', stacked=True)\n",
    "plt.title('Relationship Between Language and Cluster Number')\n",
    "plt.ylabel('% of Recordings')\n",
    "plt.legend(title='Cluster Number', bbox_to_anchor=(1.05, 1), loc='upper left')\n",
    "plt.show()\n"
   ]
  },
  {
   "cell_type": "code",
   "execution_count": 15,
   "id": "4304b776",
   "metadata": {},
   "outputs": [
    {
     "name": "stdout",
     "output_type": "stream",
     "text": [
      "   language  elbow  count  langtotals  percentage\n",
      "0       ENG      0    199        1199   16.597164\n",
      "1       ENG      1    196        1199   16.346956\n",
      "2       ENG      3    200        1199   16.680567\n",
      "3       ENG      5    203        1199   16.930776\n",
      "4       ENG      6    401        1199   33.444537\n",
      "5       EST      0      9         386    2.331606\n",
      "6       EST      2    375         386   97.150259\n",
      "7       EST      4      2         386    0.518135\n",
      "8       FRE      0      2         108    1.851852\n",
      "9       FRE      2      6         108    5.555556\n",
      "10      FRE      3      1         108    0.925926\n",
      "11      FRE      4     94         108   87.037037\n",
      "12      FRE      5      1         108    0.925926\n",
      "13      FRE      6      4         108    3.703704\n",
      "14      GER      0      3         260    1.153846\n",
      "15      GER      1      1         260    0.384615\n",
      "16      GER      2     71         260   27.307692\n",
      "17      GER      4    185         260   71.153846\n",
      "18      GRE      2    119         362   32.872928\n",
      "19      GRE      4    243         362   67.127072\n",
      "20      ITA      0      8         218    3.669725\n",
      "21      ITA      2    119         218   54.587156\n",
      "22      ITA      3      1         218    0.458716\n",
      "23      ITA      4     88         218   40.366972\n",
      "24      ITA      5      1         218    0.458716\n",
      "25      ITA      6      1         218    0.458716\n"
     ]
    }
   ],
   "source": [
    "print(mergedl0)"
   ]
  },
  {
   "cell_type": "code",
   "execution_count": 16,
   "id": "69e4c470",
   "metadata": {},
   "outputs": [
    {
     "data": {
      "image/png": "[encoded data removed]",
      "text/plain": [
       "<Figure size 640x480 with 1 Axes>"
      ]
     },
     "metadata": {},
     "output_type": "display_data"
    }
   ],
   "source": [
    "mergedl0['count'] = mergedl0['count'].astype(int) #avoid float error\n",
    "mergedl0['elbow'] = mergedl0['elbow'].astype(str) #avoid float error\n",
    "\n",
    "plotdf = mergedl0.pivot(index='language', columns='elbow', values='percentage').fillna(0)\n",
    "\n",
    "plotdf.plot(kind='bar', stacked=True)\n",
    "plt.title('Relationship Between Language and Cluster Number')\n",
    "plt.ylabel('% of Recordings')\n",
    "plt.legend(title='Cluster Number', bbox_to_anchor=(1.05, 1), loc='upper left')\n",
    "plt.show()"
   ]
  },
  {
   "cell_type": "markdown",
   "id": "a58b2682",
   "metadata": {},
   "source": [
    "There is a clear separation between languages. Honestly, since there is a column for each lanuage one-hot encoded, it actually has everything it needs to separate them out nicely. What happens if we redo this, but remove that information?"
   ]
  },
  {
   "cell_type": "markdown",
   "id": "7d7e5d2c-4922-4af2-b7e9-cc454400915b",
   "metadata": {},
   "source": [
    "# Without Language Data"
   ]
  },
  {
   "cell_type": "code",
   "execution_count": 17,
   "id": "bbf2a457-b35f-488f-ad0f-081a96b3661a",
   "metadata": {},
   "outputs": [
    {
     "data": {
      "image/png": "[encoded data removed]",
      "text/plain": [
       "<Figure size 640x480 with 2 Axes>"
      ]
     },
     "metadata": {},
     "output_type": "display_data"
    }
   ],
   "source": [
    "df2 = pd.get_dummies(dfin, columns=['gender'])\n",
    "#drop the empty column at the beginning\n",
    "df2 = df2.drop('Unnamed: 0',axis = 1)\n",
    "\n",
    "#remove categorical columns except the column of interest, one gender. Remove language.\n",
    "droplist= ['file_name', 'gender_M', 'sample_rate', 'bit_depth', 'language'] #since gender M is 100% linearly dependent of gender F and the technical stuff is not relevant\n",
    "df2 = df2.drop(droplist, axis=1)\n",
    "features2 = df2.drop(labcol, axis=1)\n",
    "#Center and Scale\n",
    "scaled_features2 = scaler.fit_transform(features2)\n",
    "\n",
    "#make model for our input\n",
    "#Try Elbow Method\n",
    "kmeans_kwargs = {\n",
    "    \"init\": \"random\",\n",
    "    \"n_init\": 40,\n",
    "    \"max_iter\": 300\n",
    "}\n",
    "\n",
    "# A list holds the SSE values for each k\n",
    "sse2 = []\n",
    "# A list holds the silhouette coefficients for each k\n",
    "silhouette_coeffs2 = []\n",
    "tryks = 15 #max number of clusters to try\n",
    "\n",
    "for k in range(2, tryks):\n",
    "    kmeans = KMeans(n_clusters=k, **kmeans_kwargs)\n",
    "    kmeans.fit(scaled_features2)\n",
    "    sse2.append(kmeans.inertia_)\n",
    "    score = silhouette_score(scaled_features2, kmeans.labels_)\n",
    "    silhouette_coeffs2.append(score)\n",
    "    \n",
    "#Make Elbow plot, want turning point\n",
    "plt.subplot(2, 1, 1)\n",
    "plt.plot(range(2, tryks), sse2)\n",
    "plt.xticks(range(2, tryks))\n",
    "plt.xlabel(\"# Clusters\")\n",
    "plt.ylabel(\"SSE\")\n",
    "\n",
    "#Make silhouette plot, want max score\n",
    "plt.subplot(2, 1, 2)\n",
    "plt.plot(range(2, tryks), silhouette_coeffs2)\n",
    "plt.xticks(range(2, tryks))\n",
    "plt.xlabel(\"# Clusters\")\n",
    "plt.ylabel(\"Silhouette Coefficient\")\n",
    "plt.show()\n",
    "\n"
   ]
  },
  {
   "cell_type": "code",
   "execution_count": 18,
   "id": "8e393c9b-1530-4a6d-95ad-145678e8d9d9",
   "metadata": {},
   "outputs": [],
   "source": [
    "#find elbow mathematically:\n",
    "kl2 = KneeLocator(\n",
    "    range(2, tryks), sse2, curve=\"convex\", direction=\"decreasing\"\n",
    ")\n",
    "kelbow2 = kl2.elbow\n",
    "\n",
    "#find max cluster number mathematically\n",
    "maxsc2 = max(silhouette_coeffs2)\n",
    "katmaxsc2 = silhouette_coeffs2.index(maxsc2)+2"
   ]
  },
  {
   "cell_type": "markdown",
   "id": "928b93f4-3bf4-4f1b-9210-fa60184f20df",
   "metadata": {},
   "source": [
    "Look for correlations with emotions"
   ]
  },
  {
   "cell_type": "code",
   "execution_count": 19,
   "id": "7ad621ad-95c1-4b8d-914c-39656e8f1d79",
   "metadata": {},
   "outputs": [
    {
     "name": "stdout",
     "output_type": "stream",
     "text": [
      "     emotion  elbow  silhouette  elbow2  silhouette2\n",
      "0        ANG      4           1       4            1\n",
      "1        SAD      3           1       0            1\n",
      "2        ANG      0           0       3            0\n",
      "3        SAD      5           1       0            1\n",
      "4        ANG      0           0       3            0\n",
      "...      ...    ...         ...     ...          ...\n",
      "2528     HAP      1           1       1            1\n",
      "2529     HAP      6           0       2            0\n",
      "2530     SAD      5           1       0            1\n",
      "2531     HAP      6           0       2            0\n",
      "2532     HAP      1           1       1            1\n",
      "\n",
      "[2533 rows x 5 columns]\n"
     ]
    },
    {
     "name": "stderr",
     "output_type": "stream",
     "text": [
      "C:\\Users\\USER\\AppData\\Local\\Temp\\ipykernel_8944\\1174464912.py:8: SettingWithCopyWarning: \n",
      "A value is trying to be set on a copy of a slice from a DataFrame.\n",
      "Try using .loc[row_indexer,col_indexer] = value instead\n",
      "\n",
      "See the caveats in the documentation: https://pandas.pydata.org/pandas-docs/stable/user_guide/indexing.html#returning-a-view-versus-a-copy\n",
      "  labels['elbow2'] = elbowclusters2\n",
      "C:\\Users\\USER\\AppData\\Local\\Temp\\ipykernel_8944\\1174464912.py:9: SettingWithCopyWarning: \n",
      "A value is trying to be set on a copy of a slice from a DataFrame.\n",
      "Try using .loc[row_indexer,col_indexer] = value instead\n",
      "\n",
      "See the caveats in the documentation: https://pandas.pydata.org/pandas-docs/stable/user_guide/indexing.html#returning-a-view-versus-a-copy\n",
      "  labels['silhouette2'] = silclusters2\n"
     ]
    }
   ],
   "source": [
    "#Run with k from elbow method:\n",
    "kmeanselbow2 = KMeans(n_clusters=kelbow2, **kmeans_kwargs)\n",
    "elbowclusters2 = kmeanselbow2.fit_predict(scaled_features2)\n",
    "#Run with k from silhouette coeffs method:\n",
    "kmeanssil2 = KMeans(n_clusters=katmaxsc2, **kmeans_kwargs)\n",
    "silclusters2 = kmeanssil2.fit_predict(scaled_features2)\n",
    "\n",
    "labels['elbow2'] = elbowclusters2\n",
    "labels['silhouette2'] = silclusters2\n",
    "print(labels)"
   ]
  },
  {
   "cell_type": "code",
   "execution_count": 20,
   "id": "81432ea1-94d2-469d-9c32-cd8d162ca3df",
   "metadata": {},
   "outputs": [
    {
     "name": "stdout",
     "output_type": "stream",
     "text": [
      "  emotion  silhouette2  count  emottotals  percentage\n",
      "0     ANG            0    481         887   54.227734\n",
      "1     ANG            1    406         887   45.772266\n",
      "2     HAP            0    414         832   49.759615\n",
      "3     HAP            1    418         832   50.240385\n",
      "4     SAD            0    402         814   49.385749\n",
      "5     SAD            1    412         814   50.614251\n",
      "   emotion  elbow2  count  emottotals  percentage2\n",
      "0      ANG       0      2         887     0.225479\n",
      "1      ANG       1    199         887    22.435175\n",
      "2      ANG       2    153         887    17.249154\n",
      "3      ANG       3    322         887    36.302142\n",
      "4      ANG       4    211         887    23.788050\n",
      "5      HAP       0    203         832    24.399038\n",
      "6      HAP       1    202         832    24.278846\n",
      "7      HAP       2    201         832    24.158654\n",
      "8      HAP       3    218         832    26.201923\n",
      "9      HAP       4      8         832     0.961538\n",
      "10     SAD       0    400         814    49.140049\n",
      "11     SAD       1      5         814     0.614251\n",
      "12     SAD       2    347         814    42.628993\n",
      "13     SAD       3     60         814     7.371007\n",
      "14     SAD       4      2         814     0.245700\n"
     ]
    }
   ],
   "source": [
    "grouped02 = labels.groupby(['emotion', 'elbow2']).size().reset_index(name='count')\n",
    "grouped12 = labels.groupby(['emotion', 'silhouette2']).size().reset_index(name='count')\n",
    "\n",
    "merged02 = pd.merge(grouped02, emottotals, on='emotion')\n",
    "merged02['percentage2'] = (merged02['count'] / merged02['emottotals']) * 100\n",
    "\n",
    "merged12 = pd.merge(grouped12, emottotals, on='emotion')\n",
    "merged12['percentage'] = (merged12['count'] / merged12['emottotals']) * 100\n",
    "\n",
    "print(merged12)\n",
    "print(merged02)"
   ]
  },
  {
   "cell_type": "code",
   "execution_count": 23,
   "id": "e60f3173-4d58-4b51-a364-80e5a6eba547",
   "metadata": {},
   "outputs": [
    {
     "data": {
      "image/png": "[encoded data removed]",
      "text/plain": [
       "<Figure size 640x480 with 1 Axes>"
      ]
     },
     "metadata": {},
     "output_type": "display_data"
    }
   ],
   "source": [
    "merged02['count'] = merged02['count'].astype(int) #avoid float error\n",
    "merged02['elbow2'] = merged02['elbow2'].astype(str) #avoid float error\n",
    "\n",
    "plotdf2 = merged02.pivot(index='emotion', columns='elbow2', values='percentage2').fillna(0)\n",
    "\n",
    "plotdf2.plot(kind='bar', stacked=True)\n",
    "plt.title('Relationship Between Emotion and Cluster Number')\n",
    "plt.ylabel('% of Recordings')\n",
    "plt.legend(title='Cluster Number', bbox_to_anchor=(1.05, 1), loc='upper left')\n",
    "plt.show()"
   ]
  },
  {
   "cell_type": "markdown",
   "id": "fc4648d9-a758-4a52-a874-466806a36a89",
   "metadata": {},
   "source": [
    "# Find important features"
   ]
  },
  {
   "cell_type": "code",
   "execution_count": 26,
   "id": "34ebf12c-2bbf-4ee1-9026-912f41652e2c",
   "metadata": {},
   "outputs": [
    {
     "name": "stdout",
     "output_type": "stream",
     "text": [
      "          duration  syllabic_rate  zcr_mean   zcr_std  zcr_frequncy  \\\n",
      "kcluster                                                              \n",
      "0         2.205193       0.459982  0.115461  0.171235      0.459982   \n",
      "1         1.942093       0.519676  0.200808  0.227886      0.519676   \n",
      "2         3.486625       0.378535  0.084669  0.082306      0.374000   \n",
      "3         2.829681       0.396476  0.144345  0.114436      0.396476   \n",
      "4         1.426650       0.728699  0.099252  0.099701      0.728699   \n",
      "\n",
      "          mean_spectral_envelope  median_spectral_envelope  \\\n",
      "kcluster                                                     \n",
      "0                    2227.141449               1492.398700   \n",
      "1                    3248.173428               2505.883572   \n",
      "2                    1841.480675               1435.922388   \n",
      "3                    2566.733132               2182.602539   \n",
      "4                    2196.006180               1780.998758   \n",
      "\n",
      "          min_spectral_envelope  max_spectral_envelope  std_spectral_envelope  \\\n",
      "kcluster                                                                        \n",
      "0                    524.813708            6935.744315            1845.592554   \n",
      "1                    929.179193            8392.986669            2089.492397   \n",
      "2                    622.509082            5832.012596            1147.843581   \n",
      "3                    905.926657            6407.264853            1250.049647   \n",
      "4                    668.984774            5734.696489            1292.842126   \n",
      "\n",
      "          ...  chroma11_3_grad  chroma12_0_diff  chroma12_0_grad  \\\n",
      "kcluster  ...                                                      \n",
      "0         ...         1.235246         0.001122         1.231965   \n",
      "1         ...         1.160834        -0.058965         1.000019   \n",
      "2         ...         1.040152         0.030086         1.136129   \n",
      "3         ...         1.017734         0.023919         1.335061   \n",
      "4         ...         2.219658        -0.111081         0.983641   \n",
      "\n",
      "          chroma12_1_diff  chroma12_1_grad  chroma12_2_diff  chroma12_2_grad  \\\n",
      "kcluster                                                                       \n",
      "0                0.139152         1.563088        -0.100110         0.876848   \n",
      "1               -0.002923         1.221480        -0.109416         0.924524   \n",
      "2               -0.010944         1.063983         0.006014         1.087664   \n",
      "3                0.000208         1.242000         0.022913         1.354375   \n",
      "4               -0.046495         0.982381         0.021577         1.158302   \n",
      "\n",
      "          chroma12_3_diff  chroma12_3_grad  gender_F  \n",
      "kcluster                                              \n",
      "0                0.018019         1.252005  0.330579  \n",
      "1                0.090358         1.355383  0.997537  \n",
      "2               -0.017458         1.028736  0.693295  \n",
      "3               -0.045211         1.104124  0.600000  \n",
      "4                0.208639         2.105068  0.067873  \n",
      "\n",
      "[5 rows x 619 columns]\n"
     ]
    }
   ],
   "source": [
    "#Add the cluster number to the original data\n",
    "features2['kcluster'] = elbowclusters2\n",
    "# Calculate centroids\n",
    "centroids = features2.groupby('kcluster').mean()\n",
    "print(centroids)\n"
   ]
  },
  {
   "cell_type": "code",
   "execution_count": 39,
   "id": "16063aeb-242f-4123-b072-65ba51f75fad",
   "metadata": {},
   "outputs": [
    {
     "name": "stderr",
     "output_type": "stream",
     "text": [
      "C:\\Users\\USER\\anaconda3\\Lib\\site-packages\\scipy\\stats\\_stats_py.py:4167: ConstantInputWarning: Each of the input arrays is constant;the F statistic is not defined or infinite\n",
      "  warnings.warn(stats.ConstantInputWarning(msg))\n"
     ]
    },
    {
     "name": "stdout",
     "output_type": "stream",
     "text": [
      "                                     F-Statistic  P-Value  Bonf Ps\n",
      "meancent                              739.619737      0.0      0.0\n",
      "zcr_stds_diffs_0_1                   1936.725370      0.0      0.0\n",
      "mfccs_mean_4                          568.372893      0.0      0.0\n",
      "zcr_diffs_from_average0_1            3270.471115      0.0      0.0\n",
      "meancent_short_2                      701.727421      0.0      0.0\n",
      "...                                          ...      ...      ...\n",
      "frequncys_zcr_diff                           NaN      NaN      NaN\n",
      "zcr_frequncys_diffs_from_average0_1          NaN      NaN      NaN\n",
      "zcr_frequncys_diffs_from_average1_2          NaN      NaN      NaN\n",
      "zcr_frequncys_diffs_from_average2_3          NaN      NaN      NaN\n",
      "zcr_frequncys_diffs_from_average3_4          NaN      NaN      NaN\n",
      "\n",
      "[619 rows x 3 columns]\n"
     ]
    }
   ],
   "source": [
    "#Use ANOVA to find the important features\n",
    "anova_results = {}\n",
    "for feature in features2.columns[:-1]:  # exclude the 'Cluster' column\n",
    "    groups = [features2[features2['kcluster'] == cluster][feature] for cluster in features2['kcluster'].unique()]\n",
    "    anova_results[feature] = f_oneway(*groups)\n",
    "\n",
    "#We have so many tests. Do a Bonferroni correction\n",
    "num_tests = len(anova_results)\n",
    "p_values = [anova_results[feature].pvalue for feature in anova_results]\n",
    "corrected_p_values = np.minimum(np.array(p_values) * num_tests, 1.0)  # Bonferroni correction\n",
    "\n",
    "\n",
    "# Display the results\n",
    "anova_results_df = pd.DataFrame(anova_results, index=['F-Statistic', 'P-Value']).T\n",
    "anova_results_df['Bonf Ps'] = corrected_p_values\n",
    "print(anova_results_df.sort_values(by='Bonf Ps'))"
   ]
  },
  {
   "cell_type": "code",
   "execution_count": 43,
   "id": "5526fa37-9111-426b-9fd7-01f98e6f5b7c",
   "metadata": {},
   "outputs": [
    {
     "data": {
      "text/html": [
       "<div>\n",
       "<style scoped>\n",
       "    .dataframe tbody tr th:only-of-type {\n",
       "        vertical-align: middle;\n",
       "    }\n",
       "\n",
       "    .dataframe tbody tr th {\n",
       "        vertical-align: top;\n",
       "    }\n",
       "\n",
       "    .dataframe thead th {\n",
       "        text-align: right;\n",
       "    }\n",
       "</style>\n",
       "<table border=\"1\" class=\"dataframe\">\n",
       "  <thead>\n",
       "    <tr style=\"text-align: right;\">\n",
       "      <th></th>\n",
       "      <th>F-Statistic</th>\n",
       "      <th>P-Value</th>\n",
       "      <th>Bonf Ps</th>\n",
       "    </tr>\n",
       "  </thead>\n",
       "  <tbody>\n",
       "    <tr>\n",
       "      <th>maxf_items_short_3_grad</th>\n",
       "      <td>9.703774</td>\n",
       "      <td>8.688811e-08</td>\n",
       "      <td>0.000054</td>\n",
       "    </tr>\n",
       "    <tr>\n",
       "      <th>maxf_items_short/maxf_items_short_3_grad</th>\n",
       "      <td>9.703774</td>\n",
       "      <td>8.688811e-08</td>\n",
       "      <td>0.000054</td>\n",
       "    </tr>\n",
       "    <tr>\n",
       "      <th>f0_short_1_grad</th>\n",
       "      <td>9.641690</td>\n",
       "      <td>9.760329e-08</td>\n",
       "      <td>0.000060</td>\n",
       "    </tr>\n",
       "    <tr>\n",
       "      <th>maxptf_short/meancent_short_1_grad</th>\n",
       "      <td>9.280554</td>\n",
       "      <td>1.918729e-07</td>\n",
       "      <td>0.000119</td>\n",
       "    </tr>\n",
       "    <tr>\n",
       "      <th>syllabic_rate_diffs_0_1</th>\n",
       "      <td>9.177676</td>\n",
       "      <td>2.325754e-07</td>\n",
       "      <td>0.000144</td>\n",
       "    </tr>\n",
       "    <tr>\n",
       "      <th>syllabic_rate_diffs_1_2</th>\n",
       "      <td>9.162494</td>\n",
       "      <td>2.392711e-07</td>\n",
       "      <td>0.000148</td>\n",
       "    </tr>\n",
       "    <tr>\n",
       "      <th>maxpf_short_1_diff</th>\n",
       "      <td>9.060172</td>\n",
       "      <td>2.897001e-07</td>\n",
       "      <td>0.000179</td>\n",
       "    </tr>\n",
       "    <tr>\n",
       "      <th>chroma05_3_grad</th>\n",
       "      <td>9.038218</td>\n",
       "      <td>3.018316e-07</td>\n",
       "      <td>0.000187</td>\n",
       "    </tr>\n",
       "    <tr>\n",
       "      <th>magmax_short_1_grad</th>\n",
       "      <td>9.028301</td>\n",
       "      <td>3.074768e-07</td>\n",
       "      <td>0.000190</td>\n",
       "    </tr>\n",
       "    <tr>\n",
       "      <th>maxptf_short_2_diff</th>\n",
       "      <td>8.740529</td>\n",
       "      <td>5.262339e-07</td>\n",
       "      <td>0.000326</td>\n",
       "    </tr>\n",
       "    <tr>\n",
       "      <th>maxpf_short/maxpf_short_2</th>\n",
       "      <td>8.528916</td>\n",
       "      <td>7.808859e-07</td>\n",
       "      <td>0.000483</td>\n",
       "    </tr>\n",
       "    <tr>\n",
       "      <th>n2_short_1_grad</th>\n",
       "      <td>7.891109</td>\n",
       "      <td>2.559118e-06</td>\n",
       "      <td>0.001584</td>\n",
       "    </tr>\n",
       "    <tr>\n",
       "      <th>min_amp_short_1_grad</th>\n",
       "      <td>7.891109</td>\n",
       "      <td>2.559118e-06</td>\n",
       "      <td>0.001584</td>\n",
       "    </tr>\n",
       "    <tr>\n",
       "      <th>minf_items_short_1_grad</th>\n",
       "      <td>7.797767</td>\n",
       "      <td>3.043525e-06</td>\n",
       "      <td>0.001884</td>\n",
       "    </tr>\n",
       "    <tr>\n",
       "      <th>mean_amp_short_0</th>\n",
       "      <td>7.740842</td>\n",
       "      <td>3.382749e-06</td>\n",
       "      <td>0.002094</td>\n",
       "    </tr>\n",
       "    <tr>\n",
       "      <th>mean_amp_short_0_diff</th>\n",
       "      <td>7.436658</td>\n",
       "      <td>5.945908e-06</td>\n",
       "      <td>0.003681</td>\n",
       "    </tr>\n",
       "    <tr>\n",
       "      <th>bwfourier_short_2_grad</th>\n",
       "      <td>7.166384</td>\n",
       "      <td>9.804592e-06</td>\n",
       "      <td>0.006069</td>\n",
       "    </tr>\n",
       "    <tr>\n",
       "      <th>maxptf_short_3_grad</th>\n",
       "      <td>7.028630</td>\n",
       "      <td>1.264652e-05</td>\n",
       "      <td>0.007828</td>\n",
       "    </tr>\n",
       "    <tr>\n",
       "      <th>cliprangef0_short_4</th>\n",
       "      <td>6.887591</td>\n",
       "      <td>1.640679e-05</td>\n",
       "      <td>0.010156</td>\n",
       "    </tr>\n",
       "    <tr>\n",
       "      <th>cliprangef0_short_2_diff</th>\n",
       "      <td>6.739854</td>\n",
       "      <td>2.154296e-05</td>\n",
       "      <td>0.013335</td>\n",
       "    </tr>\n",
       "  </tbody>\n",
       "</table>\n",
       "</div>"
      ],
      "text/plain": [
       "                                          F-Statistic       P-Value   Bonf Ps\n",
       "maxf_items_short_3_grad                      9.703774  8.688811e-08  0.000054\n",
       "maxf_items_short/maxf_items_short_3_grad     9.703774  8.688811e-08  0.000054\n",
       "f0_short_1_grad                              9.641690  9.760329e-08  0.000060\n",
       "maxptf_short/meancent_short_1_grad           9.280554  1.918729e-07  0.000119\n",
       "syllabic_rate_diffs_0_1                      9.177676  2.325754e-07  0.000144\n",
       "syllabic_rate_diffs_1_2                      9.162494  2.392711e-07  0.000148\n",
       "maxpf_short_1_diff                           9.060172  2.897001e-07  0.000179\n",
       "chroma05_3_grad                              9.038218  3.018316e-07  0.000187\n",
       "magmax_short_1_grad                          9.028301  3.074768e-07  0.000190\n",
       "maxptf_short_2_diff                          8.740529  5.262339e-07  0.000326\n",
       "maxpf_short/maxpf_short_2                    8.528916  7.808859e-07  0.000483\n",
       "n2_short_1_grad                              7.891109  2.559118e-06  0.001584\n",
       "min_amp_short_1_grad                         7.891109  2.559118e-06  0.001584\n",
       "minf_items_short_1_grad                      7.797767  3.043525e-06  0.001884\n",
       "mean_amp_short_0                             7.740842  3.382749e-06  0.002094\n",
       "mean_amp_short_0_diff                        7.436658  5.945908e-06  0.003681\n",
       "bwfourier_short_2_grad                       7.166384  9.804592e-06  0.006069\n",
       "maxptf_short_3_grad                          7.028630  1.264652e-05  0.007828\n",
       "cliprangef0_short_4                          6.887591  1.640679e-05  0.010156\n",
       "cliprangef0_short_2_diff                     6.739854  2.154296e-05  0.013335"
      ]
     },
     "execution_count": 43,
     "metadata": {},
     "output_type": "execute_result"
    }
   ],
   "source": [
    "anova_results_df.sort_values(by='Bonf Ps')[480:500]"
   ]
  },
  {
   "cell_type": "markdown",
   "id": "19ac4ca6-03ee-4d98-9236-0519b2c4c591",
   "metadata": {},
   "source": [
    "Even with the Bonferroni adjustment and setting a low threshold, there are still a lot of \"statistically significant\" features between the groups.\n",
    "Let's just look at the top 20 to get an idea of what is likely to be important."
   ]
  },
  {
   "cell_type": "code",
   "execution_count": 44,
   "id": "43623445-fbf5-40a7-b6ce-ed49cfb52f0b",
   "metadata": {},
   "outputs": [
    {
     "data": {
      "text/html": [
       "<div>\n",
       "<style scoped>\n",
       "    .dataframe tbody tr th:only-of-type {\n",
       "        vertical-align: middle;\n",
       "    }\n",
       "\n",
       "    .dataframe tbody tr th {\n",
       "        vertical-align: top;\n",
       "    }\n",
       "\n",
       "    .dataframe thead th {\n",
       "        text-align: right;\n",
       "    }\n",
       "</style>\n",
       "<table border=\"1\" class=\"dataframe\">\n",
       "  <thead>\n",
       "    <tr style=\"text-align: right;\">\n",
       "      <th></th>\n",
       "      <th>F-Statistic</th>\n",
       "      <th>P-Value</th>\n",
       "      <th>Bonf Ps</th>\n",
       "    </tr>\n",
       "  </thead>\n",
       "  <tbody>\n",
       "    <tr>\n",
       "      <th>meancent</th>\n",
       "      <td>739.619737</td>\n",
       "      <td>0.0</td>\n",
       "      <td>0.0</td>\n",
       "    </tr>\n",
       "    <tr>\n",
       "      <th>zcr_stds_diffs_0_1</th>\n",
       "      <td>1936.725370</td>\n",
       "      <td>0.0</td>\n",
       "      <td>0.0</td>\n",
       "    </tr>\n",
       "    <tr>\n",
       "      <th>mfccs_mean_4</th>\n",
       "      <td>568.372893</td>\n",
       "      <td>0.0</td>\n",
       "      <td>0.0</td>\n",
       "    </tr>\n",
       "    <tr>\n",
       "      <th>zcr_diffs_from_average0_1</th>\n",
       "      <td>3270.471115</td>\n",
       "      <td>0.0</td>\n",
       "      <td>0.0</td>\n",
       "    </tr>\n",
       "    <tr>\n",
       "      <th>meancent_short_2</th>\n",
       "      <td>701.727421</td>\n",
       "      <td>0.0</td>\n",
       "      <td>0.0</td>\n",
       "    </tr>\n",
       "    <tr>\n",
       "      <th>zcr_from_average2</th>\n",
       "      <td>815.962961</td>\n",
       "      <td>0.0</td>\n",
       "      <td>0.0</td>\n",
       "    </tr>\n",
       "    <tr>\n",
       "      <th>zcr_from_average1</th>\n",
       "      <td>689.806827</td>\n",
       "      <td>0.0</td>\n",
       "      <td>0.0</td>\n",
       "    </tr>\n",
       "    <tr>\n",
       "      <th>zcr_from_average0</th>\n",
       "      <td>3812.005464</td>\n",
       "      <td>0.0</td>\n",
       "      <td>0.0</td>\n",
       "    </tr>\n",
       "    <tr>\n",
       "      <th>mean_zcr_diff</th>\n",
       "      <td>1418.833979</td>\n",
       "      <td>0.0</td>\n",
       "      <td>0.0</td>\n",
       "    </tr>\n",
       "    <tr>\n",
       "      <th>mfccs_mean_11</th>\n",
       "      <td>653.128829</td>\n",
       "      <td>0.0</td>\n",
       "      <td>0.0</td>\n",
       "    </tr>\n",
       "    <tr>\n",
       "      <th>mean_zcr</th>\n",
       "      <td>858.882095</td>\n",
       "      <td>0.0</td>\n",
       "      <td>0.0</td>\n",
       "    </tr>\n",
       "    <tr>\n",
       "      <th>zcr_diffs_0_1</th>\n",
       "      <td>4012.569322</td>\n",
       "      <td>0.0</td>\n",
       "      <td>0.0</td>\n",
       "    </tr>\n",
       "    <tr>\n",
       "      <th>zcr_stds_0</th>\n",
       "      <td>1785.291671</td>\n",
       "      <td>0.0</td>\n",
       "      <td>0.0</td>\n",
       "    </tr>\n",
       "    <tr>\n",
       "      <th>mfccs_std_2</th>\n",
       "      <td>567.126417</td>\n",
       "      <td>0.0</td>\n",
       "      <td>0.0</td>\n",
       "    </tr>\n",
       "    <tr>\n",
       "      <th>chroma08_2</th>\n",
       "      <td>544.731949</td>\n",
       "      <td>0.0</td>\n",
       "      <td>0.0</td>\n",
       "    </tr>\n",
       "    <tr>\n",
       "      <th>zcr_means_0</th>\n",
       "      <td>4044.242708</td>\n",
       "      <td>0.0</td>\n",
       "      <td>0.0</td>\n",
       "    </tr>\n",
       "    <tr>\n",
       "      <th>mfccs_mean_2</th>\n",
       "      <td>1270.497457</td>\n",
       "      <td>0.0</td>\n",
       "      <td>0.0</td>\n",
       "    </tr>\n",
       "    <tr>\n",
       "      <th>mfccs_mean_1</th>\n",
       "      <td>931.493740</td>\n",
       "      <td>0.0</td>\n",
       "      <td>0.0</td>\n",
       "    </tr>\n",
       "    <tr>\n",
       "      <th>mfccs_mean_0</th>\n",
       "      <td>972.870476</td>\n",
       "      <td>0.0</td>\n",
       "      <td>0.0</td>\n",
       "    </tr>\n",
       "    <tr>\n",
       "      <th>maxf_items_short_0</th>\n",
       "      <td>601.879924</td>\n",
       "      <td>0.0</td>\n",
       "      <td>0.0</td>\n",
       "    </tr>\n",
       "  </tbody>\n",
       "</table>\n",
       "</div>"
      ],
      "text/plain": [
       "                           F-Statistic  P-Value  Bonf Ps\n",
       "meancent                    739.619737      0.0      0.0\n",
       "zcr_stds_diffs_0_1         1936.725370      0.0      0.0\n",
       "mfccs_mean_4                568.372893      0.0      0.0\n",
       "zcr_diffs_from_average0_1  3270.471115      0.0      0.0\n",
       "meancent_short_2            701.727421      0.0      0.0\n",
       "zcr_from_average2           815.962961      0.0      0.0\n",
       "zcr_from_average1           689.806827      0.0      0.0\n",
       "zcr_from_average0          3812.005464      0.0      0.0\n",
       "mean_zcr_diff              1418.833979      0.0      0.0\n",
       "mfccs_mean_11               653.128829      0.0      0.0\n",
       "mean_zcr                    858.882095      0.0      0.0\n",
       "zcr_diffs_0_1              4012.569322      0.0      0.0\n",
       "zcr_stds_0                 1785.291671      0.0      0.0\n",
       "mfccs_std_2                 567.126417      0.0      0.0\n",
       "chroma08_2                  544.731949      0.0      0.0\n",
       "zcr_means_0                4044.242708      0.0      0.0\n",
       "mfccs_mean_2               1270.497457      0.0      0.0\n",
       "mfccs_mean_1                931.493740      0.0      0.0\n",
       "mfccs_mean_0                972.870476      0.0      0.0\n",
       "maxf_items_short_0          601.879924      0.0      0.0"
      ]
     },
     "execution_count": 44,
     "metadata": {},
     "output_type": "execute_result"
    }
   ],
   "source": [
    "anova_results_df.sort_values(by='Bonf Ps')[0:20]"
   ]
  },
  {
   "cell_type": "code",
   "execution_count": null,
   "id": "3f6d11f7-b523-4051-96e9-461b6507c9c3",
   "metadata": {},
   "outputs": [],
   "source": []
  }
 ],
 "metadata": {
  "kernelspec": {
   "display_name": "Python 3 (ipykernel)",
   "language": "python",
   "name": "python3"
  },
  "language_info": {
   "codemirror_mode": {
    "name": "ipython",
    "version": 3
   },
   "file_extension": ".py",
   "mimetype": "text/x-python",
   "name": "python",
   "nbconvert_exporter": "python",
   "pygments_lexer": "ipython3",
   "version": "3.11.7"
  }
 },
 "nbformat": 4,
 "nbformat_minor": 5
}
