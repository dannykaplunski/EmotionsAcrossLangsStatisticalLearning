{
 "cells": [
  {
   "cell_type": "code",
   "execution_count": 1,
   "id": "4d0d7cef",
   "metadata": {},
   "outputs": [],
   "source": [
    "import wave #for getting the wav file\n",
    "import matplotlib.pyplot as plt #for plotting\n",
    "import librosa #for doing all of the wavestuff\n",
    "import numpy as np #vector stuff\n",
    "import pandas as pd #dataframe\n",
    "import torch #tesnor storage of the matrix data\n",
    "import os \n",
    "import pandas as pd\n",
    "from scipy.io import wavfile"
   ]
  },
  {
   "cell_type": "markdown",
   "id": "bcd31e47",
   "metadata": {},
   "source": [
    "# Load Data\n",
    "load the wav file"
   ]
  },
  {
   "cell_type": "code",
   "execution_count": 2,
   "id": "fadd6ceb",
   "metadata": {},
   "outputs": [],
   "source": [
    "file_path = 'testfileit.wav'\n",
    "\n",
    "#with wave.open(file_path, 'rb') as wav_file: #read only\n",
    "    # Read audio frames and get parameters.\n",
    "#    audio_data = wav_file.readframes(wav_file.getnframes())\n",
    "#    params = wav_file.getparams()\n",
    "#print(params)\n",
    "#print(type(audio_data), len(audio_data))"
   ]
  },
  {
   "cell_type": "code",
   "execution_count": 3,
   "id": "57f08eda",
   "metadata": {},
   "outputs": [
    {
     "name": "stdout",
     "output_type": "stream",
     "text": [
      "48000 215040 4.48\n"
     ]
    }
   ],
   "source": [
    "#do it in librosa\n",
    "audio_data, sample_rate = librosa.load(file_path, sr=None)\n",
    "pts = len(audio_data)\n",
    "secs = pts/sample_rate #time of the clip\n",
    "print(sample_rate, pts, secs)"
   ]
  },
  {
   "cell_type": "markdown",
   "id": "a54008fa",
   "metadata": {},
   "source": [
    "# Look at the fourier transform"
   ]
  },
  {
   "cell_type": "code",
   "execution_count": 4,
   "id": "4948055d",
   "metadata": {},
   "outputs": [
    {
     "data": {
      "image/png": "[encoded data removed]",
      "text/plain": [
       "<Figure size 432x288 with 4 Axes>"
      ]
     },
     "metadata": {
      "needs_background": "light"
     },
     "output_type": "display_data"
    }
   ],
   "source": [
    "#Get the Fourier transform\n",
    "fourier = np.fft.fft(audio_data)\n",
    "\n",
    "#Get the spectrum\n",
    "magspectrum = np.abs(fourier)\n",
    "\n",
    "#Normalize the magnitude spectrum\n",
    "nmagspectrum = magspectrum/np.max(magspectrum)\n",
    "\n",
    "# Plot the fourier spectrum and the normalized one (should look same)\n",
    "plt.subplot(2, 2, 1)  # (rows, columns, index)\n",
    "frequencies = abs(np.fft.fftfreq(len(fourier), d=1/sample_rate)) #get the frequencies that correspond to the fourier magnitudes\n",
    "plt.plot(frequencies, magspectrum)\n",
    "plt.xlabel('Frequency (Hz)')\n",
    "plt.ylabel('Magnitude')\n",
    "plt.title('Fourier Transform')\n",
    "plt.xlim(0, sample_rate / 2)\n",
    "#plt.show()\n",
    "\n",
    "plt.subplot(2, 2, 2)  # (rows, columns, index)\n",
    "plt.plot(frequencies, nmagspectrum)\n",
    "plt.xlabel('Frequency (Hz)')\n",
    "plt.ylabel('Magnitude')\n",
    "plt.title('Fourier Transform')\n",
    "plt.xlim(0, sample_rate / 2)\n",
    "#plt.show()\n",
    "\n",
    "plt.subplot(2, 2, 3)  # (rows, columns, index)\n",
    "frequencies = abs(np.fft.fftfreq(len(fourier), d=1/sample_rate)) #get the frequencies that correspond to the fourier magnitudes\n",
    "plt.plot(frequencies, magspectrum)\n",
    "plt.xlabel('Frequency (Hz)')\n",
    "plt.ylabel('Magnitude')\n",
    "plt.title('Fourier Transform')\n",
    "plt.xlim(0, 1500)\n",
    "#plt.show()\n",
    "\n",
    "plt.subplot(2, 2, 4)  # (rows, columns, index)\n",
    "plt.plot(frequencies, nmagspectrum)\n",
    "plt.xlabel('Frequency (Hz)')\n",
    "plt.ylabel('Magnitude')\n",
    "plt.title('Fourier Transform')\n",
    "plt.xlim(0, 1500)\n",
    "plt.show()"
   ]
  },
  {
   "cell_type": "code",
   "execution_count": 5,
   "id": "6d7c02a6",
   "metadata": {},
   "outputs": [],
   "source": [
    "#set up a function to get the fourier transform information for any set of clips\n",
    "def get_fourier(clip):\n",
    "    #Get the Fourier transform\n",
    "    fourierf = np.fft.fft(clip)\n",
    "    #Get the spectrum\n",
    "    magspectrumf = np.abs(fourierf)\n",
    "    frequenciesf = abs(np.fft.fftfreq(len(fourierf), d=1/sample_rate)) #get the frequencies that correspond to the fourier magnitudes\n",
    "\n",
    "    #get the f with max magnitude\n",
    "    magmaxf = np.max(magspectrumf) \n",
    "    #find the index\n",
    "    fmaxindexf = np.where(magspectrumf == magmaxf)\n",
    "    #get the corresponding frequencyw\n",
    "    maxpff = frequenciesf[int(np.max(fmaxindexf[0]))] #frequency of maximum power at any point during the clip. If there are 2 points, pick one.\n",
    "\n",
    "    #define max f as highest f with 1/3 of the peak frequency\n",
    "    isrelmaxf = torch.tensor(magspectrumf > magmaxf/3).to(torch.float)\n",
    "    relfsf = torch.tensor(frequenciesf)*isrelmaxf #frequencies over 1/3 max mult by 1, others zeroed out\n",
    "    maxff = max(relfsf).numpy() #maximum frequency\n",
    "    #define min f as lowest f with 1/3 of the peak (may often be 0)\n",
    "    minff = min(relfsf).numpy()\n",
    "    #the BW of the magnitudes is max-min\n",
    "    bwfourierf = maxff-minff\n",
    "    fourieroutf = (magmaxf, maxpff, maxff.item(), minff.item(), bwfourierf)\n",
    "    return fourieroutf"
   ]
  },
  {
   "cell_type": "code",
   "execution_count": 6,
   "id": "9e76e942",
   "metadata": {},
   "outputs": [
    {
     "name": "stdout",
     "output_type": "stream",
     "text": [
      "(888.5912456260182, 302.45535714285717, 637.5, 0.0, 637.5)\n"
     ]
    }
   ],
   "source": [
    "overallfourier = get_fourier(audio_data) #all of the info from the fourier transform for the whole file\n",
    "#0) max magnitude of fourier, 1) f for max magnitude, 2) highest relevant f, 3) lowest relevant f, 4) max-min relevant f\n",
    "print(overallfourier)\n",
    "maxf = overallfourier[2]"
   ]
  },
  {
   "cell_type": "markdown",
   "id": "96bde83e",
   "metadata": {},
   "source": [
    "# Other Spectral Features"
   ]
  },
  {
   "cell_type": "code",
   "execution_count": 7,
   "id": "2732804e",
   "metadata": {},
   "outputs": [
    {
     "name": "stdout",
     "output_type": "stream",
     "text": [
      "1115 9600 43.04932735426009\n"
     ]
    }
   ],
   "source": [
    "#setup:\n",
    "n_fft = round(512*sample_rate/22050) #512 recommended for voice at 22050 Hz\n",
    "hoplwhole = sample_rate*3 #when we want data for the whole thing\n",
    "hopl = round(sample_rate/5) #number of audio samples between adjacent STFT columns, we want 200ms chunks\n",
    "#frequency resolution\n",
    "f_res = sample_rate/n_fft\n",
    "print(n_fft, hopl, f_res)"
   ]
  },
  {
   "cell_type": "code",
   "execution_count": 8,
   "id": "6da4a557",
   "metadata": {},
   "outputs": [],
   "source": [
    "def get_spec(clip, hoplen):\n",
    "    #Get BW\n",
    "    bw = librosa.feature.spectral_bandwidth(y=clip, sr=sample_rate, hop_length=hoplen)[0] #sometimes gives 2 items in vector, one can be 0\n",
    "    #Get the spectral rolloff\n",
    "    specroll = librosa.feature.spectral_rolloff(y= clip, sr=sample_rate, n_fft=n_fft, hop_length=hoplen, roll_percent=0.85)[0]#sometimes gives 2 items in vector, one can be 0\n",
    "    #get fundamental frequency\n",
    "    try:\n",
    "        f0 = np.nanmean(librosa.pyin(y=clip, fmin = 60, fmax = maxf, sr=sample_rate)[0])\n",
    "    except RuntimeWarning:\n",
    "        f0 = 0\n",
    "    spect = [bw[0], specroll[0], f0]\n",
    "    return spect"
   ]
  },
  {
   "cell_type": "code",
   "execution_count": 9,
   "id": "ed7f29fc",
   "metadata": {},
   "outputs": [
    {
     "name": "stdout",
     "output_type": "stream",
     "text": [
      "[0.0, 0.0, 285.45158413374617]\n"
     ]
    }
   ],
   "source": [
    "spectdata = get_spec(audio_data, hoplwhole) #0) spectral bandwith, 1) spectrall rolloff f, 2) fundamental freq f0\n",
    "print(spectdata)"
   ]
  },
  {
   "cell_type": "code",
   "execution_count": 10,
   "id": "1fab7d23",
   "metadata": {},
   "outputs": [
    {
     "name": "stdout",
     "output_type": "stream",
     "text": [
      "2.2333034231868343\n"
     ]
    }
   ],
   "source": [
    "#get range/f0\n",
    "rangef0 = overallfourier[4]/spectdata[2]\n",
    "print(rangef0)"
   ]
  },
  {
   "cell_type": "markdown",
   "id": "dc0de656",
   "metadata": {},
   "source": [
    "Get the data for segment clips"
   ]
  },
  {
   "cell_type": "code",
   "execution_count": 11,
   "id": "c2a64b79",
   "metadata": {},
   "outputs": [],
   "source": [
    "n = 6 #number of sections to split into +1\n",
    "#the shortest filess are 1 second and we don't want clips shorter than 200 ms since that's what the human ear picks up\n",
    "pps = np.round(pts/n) #points per section, with the last section getting the extras or shorted\n",
    "cutoffs = [int(pps * i) for i in range(0, n-1)]\n",
    "cutoffs.append(int(pts))\n",
    "\n",
    "freqdata = []\n",
    "for i in range(0, n-1):\n",
    "    shortclip = audio_data[cutoffs[i]:cutoffs[i+1]]\n",
    "    bws = max(librosa.feature.spectral_bandwidth(y=shortclip, sr=sample_rate, hop_length=hopl*3)[0])\n",
    "    fc = get_fourier(shortclip)\n",
    "    sc = get_spec(shortclip, hopl)\n",
    "    rangef0c = fc[4]/sc[2]\n",
    "    freqdata.append([fc[0], fc[1], fc[2], fc[3], sc[0], sc[1], sc[2], rangef0c])\n",
    "#print(freqdata) \n",
    "#0) max magnitude of fourier, 1) f for max magnitude, 2) highest relevant f, \n",
    "#3) lowest relevant f, 4) max-min relevant f, 5) spectral bandwith, \n",
    "#6) spectrall rolloff f, 7) fundamental freq f0, 8) range/f0"
   ]
  },
  {
   "cell_type": "markdown",
   "id": "cab66ff2",
   "metadata": {},
   "source": [
    "# Look at the spectrogram"
   ]
  },
  {
   "cell_type": "code",
   "execution_count": 12,
   "id": "39f64d1c",
   "metadata": {},
   "outputs": [
    {
     "data": {
      "image/png": "[encoded data removed]",
      "text/plain": [
       "<Figure size 432x288 with 2 Axes>"
      ]
     },
     "metadata": {
      "needs_background": "light"
     },
     "output_type": "display_data"
    }
   ],
   "source": [
    "#get the short-term fourier transform\n",
    "fourierplt = librosa.stft(audio_data, n_fft=n_fft, hop_length=hopl)\n",
    "#convert it from raw values to dB (log)\n",
    "findbplt = librosa.amplitude_to_db(abs(fourierplt))\n",
    "#look at the spectrogram\n",
    "librosa.display.specshow(findbplt, sr=sample_rate, x_axis='time', y_axis='hz')\n",
    "plt.colorbar(label='Intensity (dB)')\n",
    "plt.show()"
   ]
  },
  {
   "cell_type": "code",
   "execution_count": 13,
   "id": "e0e8cdfa",
   "metadata": {},
   "outputs": [],
   "source": [
    "#get the frequencies with the max power\n",
    "def get_fpwr(clip):\n",
    "    \n",
    "    fourier = librosa.stft(clip, n_fft=n_fft, hop_length=hopl)\n",
    "    #convert it from raw values to dB (log)\n",
    "    findb = librosa.amplitude_to_db(abs(fourier))\n",
    "    #0 is the frequency bins, 1 is the time stamp\n",
    "    #frequency corresponding to each row\n",
    "    f_bins = [i * f_res for i in range(fourier.shape[0])]\n",
    "    \n",
    "    #get the max energy value\n",
    "    overallmaxdb = np.max(findb) \n",
    "    #find the row it's in\n",
    "    overallindex = np.where(findb == overallmaxdb)\n",
    "    #get the corresponding frequency for that row\n",
    "    maxptf=f_bins[int(overallindex[0])] #frequency of maximum power at any point during the clip\n",
    "\n",
    "    #sum up the energy for all time periods for each row\n",
    "    rowsums = np.sum(fourier, axis=1)\n",
    "    #get the max energy value\n",
    "    rowmax = np.max(rowsums)\n",
    "    #find the row it's in\n",
    "    sumindex = np.where(rowsums == rowmax)\n",
    "    #get the corresponding frequency for that row\n",
    "    maxsumf=f_bins[int(sumindex[0])] #frequency of maximum power throughout the clip\n",
    "    return(maxptf, maxsumf)"
   ]
  },
  {
   "cell_type": "code",
   "execution_count": 14,
   "id": "76d46517",
   "metadata": {},
   "outputs": [
    {
     "name": "stdout",
     "output_type": "stream",
     "text": [
      "(301.3452914798207, 258.29596412556054)\n"
     ]
    }
   ],
   "source": [
    "maxpwr = get_fpwr(audio_data)\n",
    "print(maxpwr)"
   ]
  },
  {
   "cell_type": "code",
   "execution_count": 15,
   "id": "db3ce180",
   "metadata": {},
   "outputs": [],
   "source": [
    "#get the spectral centroid\n",
    "def get_spc(clip):\n",
    "    centroidvect = librosa.feature.spectral_centroid(y=clip, sr=sample_rate)\n",
    "    meancent = np.mean(centroidvect)\n",
    "    return meancent"
   ]
  },
  {
   "cell_type": "markdown",
   "id": "5421f8a2",
   "metadata": {},
   "source": [
    "For the whole file:"
   ]
  },
  {
   "cell_type": "code",
   "execution_count": 16,
   "id": "fb038869",
   "metadata": {},
   "outputs": [
    {
     "name": "stdout",
     "output_type": "stream",
     "text": [
      "2211.8906487556\n"
     ]
    }
   ],
   "source": [
    "filemeancent = get_spc(audio_data)\n",
    "print(filemeancent)"
   ]
  },
  {
   "cell_type": "markdown",
   "id": "914882aa",
   "metadata": {},
   "source": [
    "Split the waveplot into sections and get data for each"
   ]
  },
  {
   "cell_type": "code",
   "execution_count": 17,
   "id": "7d3aba6e",
   "metadata": {},
   "outputs": [],
   "source": [
    "n = 6 #number of sections to split into +1\n",
    "#the shortest filess are 1 second and we don't want clips shorter than 200 ms since that's what the human ear picks up\n",
    "pps = np.round(pts/n) #points per section, with the last section getting the extras or shorted\n",
    "cutoffs = [int(pps * i) for i in range(0, n-1)]\n",
    "cutoffs.append(int(pts))"
   ]
  },
  {
   "cell_type": "code",
   "execution_count": 18,
   "id": "0b2d3c8a",
   "metadata": {},
   "outputs": [],
   "source": [
    "segsum = []\n",
    "for i in range(0, n-1):\n",
    "    shortclip = audio_data[cutoffs[i]:cutoffs[i+1]]\n",
    "    maxdata = get_fpwr(shortclip)\n",
    "    centdata= get_spc(shortclip)\n",
    "    bws = librosa.feature.spectral_bandwidth(y=shortclip, sr=sample_rate, hop_length=hopl*3)[0]\n",
    "    #print(bws[0])\n",
    "    segsum.append([maxdata[0], maxdata[1], centdata]) #f of peak pt energy, f of max total energy, centroid f, bandwidth"
   ]
  },
  {
   "cell_type": "code",
   "execution_count": 19,
   "id": "2da09482",
   "metadata": {},
   "outputs": [
    {
     "name": "stdout",
     "output_type": "stream",
     "text": [
      "[[258.29596412556054, 258.29596412556054, 1526.9278618428007], [301.3452914798207, 344.39461883408075, 3050.8648352905593], [645.7399103139014, 645.7399103139014, 2791.8567970729837], [258.29596412556054, 258.29596412556054, 1545.0721038374857], [344.39461883408075, 344.39461883408075, 2194.2444221160285]]\n"
     ]
    }
   ],
   "source": [
    "#raw info for each of the segments\n",
    "print(segsum)"
   ]
  },
  {
   "cell_type": "markdown",
   "id": "a645c8ff",
   "metadata": {},
   "source": [
    "Add comparisons to \"normalize\" the amplitudes to baseline"
   ]
  },
  {
   "cell_type": "code",
   "execution_count": 20,
   "id": "1b8394b3",
   "metadata": {},
   "outputs": [],
   "source": [
    "#Use the overall file mean centroid as the normalizer.\n",
    "nmaxpwr = maxpwr/filemeancent\n",
    "nseg = torch.tensor(segsum/filemeancent)\n",
    "\n"
   ]
  },
  {
   "cell_type": "code",
   "execution_count": 21,
   "id": "6e09ef10",
   "metadata": {},
   "outputs": [
    {
     "name": "stdout",
     "output_type": "stream",
     "text": [
      "(301.3452914798207, 258.29596412556054, 0.13623878361679237, 0.11677610024296486) tensor([[2.5830e+02, 2.5830e+02, 1.5269e+03, 1.1678e-01, 1.1678e-01, 6.9033e-01],\n",
      "        [3.0135e+02, 3.4439e+02, 3.0509e+03, 1.3624e-01, 1.5570e-01, 1.3793e+00],\n",
      "        [6.4574e+02, 6.4574e+02, 2.7919e+03, 2.9194e-01, 2.9194e-01, 1.2622e+00],\n",
      "        [2.5830e+02, 2.5830e+02, 1.5451e+03, 1.1678e-01, 1.1678e-01, 6.9853e-01],\n",
      "        [3.4439e+02, 3.4439e+02, 2.1942e+03, 1.5570e-01, 1.5570e-01, 9.9202e-01]],\n",
      "       dtype=torch.float64)\n"
     ]
    }
   ],
   "source": [
    "powervect = (maxpwr[0], maxpwr[1], nmaxpwr[0], nmaxpwr[1]) #max f at any point, f w max power, normalized max f at any point, normalized f w max power\n",
    "segmat = torch.cat((torch.tensor(segsum), nseg), dim=1) #rows are each segment, \n",
    "#columns are f of peak pt energy, f of max total energy, centroid f, normalized f peak pt energy, normalized f max tot, normalized centroid\n",
    "\n",
    "print(powervect, segmat)"
   ]
  },
  {
   "cell_type": "markdown",
   "id": "8adb6283",
   "metadata": {},
   "source": [
    "# Find the gradient/differences"
   ]
  },
  {
   "cell_type": "markdown",
   "id": "80feec14",
   "metadata": {},
   "source": [
    "Combine all segment data"
   ]
  },
  {
   "cell_type": "code",
   "execution_count": 22,
   "id": "6ae35a46",
   "metadata": {},
   "outputs": [
    {
     "name": "stdout",
     "output_type": "stream",
     "text": [
      "torch.Size([5, 22])\n"
     ]
    }
   ],
   "source": [
    "freqmat = torch.cat((torch.tensor(freqdata), torch.tensor(freqdata)/filemeancent),dim=1)#includes raw and normalized fourier and spectral data\n",
    "allsegdata = torch.cat((segmat, freqmat), dim=1)\n",
    "print(allsegdata.shape)"
   ]
  },
  {
   "cell_type": "code",
   "execution_count": 23,
   "id": "d280400e",
   "metadata": {},
   "outputs": [
    {
     "name": "stdout",
     "output_type": "stream",
     "text": [
      "torch.Size([6, 22]) torch.Size([6, 22])\n"
     ]
    }
   ],
   "source": [
    "#to compare easily, make a new tensor that is the old one shifted. For sizing, need to make the original one line bigger as well\n",
    "zerost = torch.zeros(1, 22)\n",
    "lastt = torch.cat((allsegdata, zerost), dim=0)\n",
    "nextt = torch.cat((zerost, allsegdata), dim=0)\n",
    "diffs = nextt-lastt\n",
    "grads = nextt/lastt #need to replace nans with 0s\n",
    "print(diffs.shape, grads.shape)\n"
   ]
  },
  {
   "cell_type": "code",
   "execution_count": 24,
   "id": "77c56408",
   "metadata": {},
   "outputs": [
    {
     "name": "stdout",
     "output_type": "stream",
     "text": [
      "torch.Size([5, 66])\n"
     ]
    }
   ],
   "source": [
    "#remove the last line since it doesn't have meaning and attach to the original summary to have something to return\n",
    "tensoroutput = torch.cat((allsegdata, diffs[0:n-1], grads[0:n-1]), dim=1)\n",
    "#columns: 0-2 segment f of peak pt energy, f of max total energy, centroid f \n",
    "#3-5: normalized 1-3.\n",
    "#6-9: fourier outputs\n",
    "#10-12: spectral outputs\n",
    "#13: range/f0\n",
    "#14-21: normalized 6-13\n",
    "#22-34: raw difference between steps of first 14 \n",
    "#35-66: % difference between steps of first 14.\n",
    "shift = 22\n",
    "print(tensoroutput.shape)"
   ]
  },
  {
   "cell_type": "markdown",
   "id": "add438ee",
   "metadata": {},
   "source": [
    "Let's plot some stuff to make sure that it makes sense"
   ]
  },
  {
   "cell_type": "code",
   "execution_count": 25,
   "id": "eaf4551b",
   "metadata": {},
   "outputs": [
    {
     "data": {
      "image/png": "[encoded data removed]",
      "text/plain": [
       "<Figure size 432x288 with 2 Axes>"
      ]
     },
     "metadata": {
      "needs_background": "light"
     },
     "output_type": "display_data"
    }
   ],
   "source": [
    "#stats and normalized stats\n",
    "fpk = tensoroutput[:, 0]\n",
    "fmax = tensoroutput[:, 1]\n",
    "centf = tensoroutput[:, 2]\n",
    "nfpk = tensoroutput[:, 3]\n",
    "nfmax = tensoroutput[:, 4]\n",
    "ncentf = tensoroutput[:, 5]\n",
    "\n",
    "plt.subplot(1, 2, 1)  # (rows, columns, index)\n",
    "plt.plot(fpk, label='pk f')\n",
    "plt.plot(fmax, label='f max p')\n",
    "plt.plot(centf, label='centroid')\n",
    "plt.title('raw')\n",
    "plt.legend()\n",
    "\n",
    "plt.subplot(1, 2, 2)\n",
    "plt.plot(nfpk, label='norm pk f')\n",
    "plt.plot(nfmax, label='norm f max p')\n",
    "plt.plot(ncentf, label='norm centroid')\n",
    "plt.title('normalized')\n",
    "plt.legend()\n",
    "\n",
    "plt.show()"
   ]
  },
  {
   "cell_type": "code",
   "execution_count": 26,
   "id": "bf9a084f",
   "metadata": {},
   "outputs": [
    {
     "data": {
      "image/png": "[encoded data removed]",
      "text/plain": [
       "<Figure size 432x288 with 2 Axes>"
      ]
     },
     "metadata": {
      "needs_background": "light"
     },
     "output_type": "display_data"
    }
   ],
   "source": [
    "#changes and normalized changes\n",
    "deltafpk = tensoroutput[:, 6+ shift]\n",
    "deltafmax = tensoroutput[:, 7+ shift]\n",
    "deltacentf = tensoroutput[:, 8+ shift]\n",
    "deltanfpk = tensoroutput[:, 9+ shift]\n",
    "deltanfmax = tensoroutput[:, 10+ shift]\n",
    "deltancentf = tensoroutput[:, 11+ shift]\n",
    "\n",
    "\n",
    "plt.subplot(1, 2, 1)  # (rows, columns, index)\n",
    "plt.plot(deltafpk, label='pk f')\n",
    "plt.plot(deltafmax, label='f max p')\n",
    "plt.plot(deltacentf, label='centroid')\n",
    "plt.title('Deltas')\n",
    "plt.legend()\n",
    "\n",
    "plt.subplot(1, 2, 2)\n",
    "plt.plot(deltanfpk, label='norm pk f')\n",
    "plt.plot(deltanfmax, label='norm f max p')\n",
    "plt.plot(deltancentf, label='norm centroid')\n",
    "plt.title('Normalized Deltas')\n",
    "plt.legend()\n",
    "\n",
    "plt.show()\n"
   ]
  },
  {
   "cell_type": "code",
   "execution_count": 27,
   "id": "8a38e784",
   "metadata": {},
   "outputs": [
    {
     "data": {
      "image/png": "[encoded data removed]",
      "text/plain": [
       "<Figure size 432x288 with 2 Axes>"
      ]
     },
     "metadata": {
      "needs_background": "light"
     },
     "output_type": "display_data"
    }
   ],
   "source": [
    "#changes and normalized changes\n",
    "gradfpk = tensoroutput[:, 12+ shift]\n",
    "gradfmax = tensoroutput[:, 13+ shift]\n",
    "gradcentf = tensoroutput[:, 14+ shift]\n",
    "gradnfpk = tensoroutput[:, 15+ shift]\n",
    "gradnfmax = tensoroutput[:, 16+ shift]\n",
    "gradncentf = tensoroutput[:, 17+ shift]\n",
    "\n",
    "\n",
    "plt.subplot(1, 2, 1)  # (rows, columns, index)\n",
    "plt.plot(gradfpk, label='pk f')\n",
    "plt.plot(gradfmax, label='f max p')\n",
    "plt.plot(gradcentf, label='centroid')\n",
    "plt.title('grads')\n",
    "plt.legend()\n",
    "\n",
    "plt.subplot(1, 2, 2)\n",
    "plt.plot(gradnfpk, label='norm pk f')\n",
    "plt.plot(gradnfmax, label='norm f max p')\n",
    "plt.plot(gradncentf, label='norm centroid')\n",
    "plt.title('Normalized grads')\n",
    "plt.legend()\n",
    "\n",
    "plt.show()\n"
   ]
  },
  {
   "cell_type": "markdown",
   "id": "4c3f2746",
   "metadata": {},
   "source": [
    "# Chroma/Tonnez"
   ]
  },
  {
   "cell_type": "code",
   "execution_count": 28,
   "id": "0e874ad7",
   "metadata": {},
   "outputs": [
    {
     "name": "stdout",
     "output_type": "stream",
     "text": [
      "[[0.         0.26881847]\n",
      " [0.         0.46086994]\n",
      " [0.         0.77384454]\n",
      " [0.         1.        ]\n",
      " [0.         0.75983137]\n",
      " [0.         0.50251526]\n",
      " [0.         0.27757475]\n",
      " [0.         0.09241647]\n",
      " [0.         0.1264679 ]\n",
      " [0.         0.11521322]\n",
      " [0.         0.11209217]\n",
      " [0.         0.13814206]]\n"
     ]
    }
   ],
   "source": [
    "chroma = librosa.feature.chroma_stft(y=audio_data, sr=sample_rate, hop_length=hoplwhole, n_fft=n_fft)\n",
    "print(chroma)"
   ]
  },
  {
   "cell_type": "code",
   "execution_count": 29,
   "id": "fb6f30ec",
   "metadata": {},
   "outputs": [
    {
     "name": "stdout",
     "output_type": "stream",
     "text": [
      "[[ 1.18804140e-04  2.06514319e-03  2.15594872e-03 ... -1.35305766e-02\n",
      "  -1.10747628e-02 -9.11307462e-03]\n",
      " [ 4.12342596e-02  3.14548470e-02  3.64640069e-02 ...  1.23268881e-02\n",
      "   1.36795239e-02  1.14276461e-02]\n",
      " [-2.12848701e-01 -2.10384028e-01 -2.04748411e-01 ...  3.33311958e-02\n",
      "   4.01941491e-02  4.78159264e-02]\n",
      " [ 1.74358860e-02  9.50131193e-03  1.18085295e-02 ... -4.95270127e-02\n",
      "  -5.35511989e-02 -5.88315912e-02]\n",
      " [ 4.10679431e-03  3.11027317e-03  2.85270900e-03 ...  8.64956626e-03\n",
      "   5.35101996e-03  1.53672750e-03]\n",
      " [ 1.50600960e-02  1.23085179e-02  1.57280248e-02 ...  5.72090428e-02\n",
      "   5.78991079e-02  5.83325159e-02]]\n"
     ]
    }
   ],
   "source": [
    "tonnez = librosa.feature.tonnetz(y=audio_data, sr=sample_rate)\n",
    "print(tonnez)"
   ]
  },
  {
   "cell_type": "markdown",
   "id": "12fbba45",
   "metadata": {},
   "source": [
    "To compare with others, return the overall data as well as the tensor of segments"
   ]
  },
  {
   "cell_type": "code",
   "execution_count": 30,
   "id": "1ad99c82",
   "metadata": {},
   "outputs": [],
   "source": [
    "energypitch = (overallfourier, spectdata, maxpwr, filemeancent, tensoroutput, chroma)\n"
   ]
  }
 ],
 "metadata": {
  "kernelspec": {
   "display_name": "Python 3",
   "language": "python",
   "name": "python3"
  },
  "language_info": {
   "codemirror_mode": {
    "name": "ipython",
    "version": 3
   },
   "file_extension": ".py",
   "mimetype": "text/x-python",
   "name": "python",
   "nbconvert_exporter": "python",
   "pygments_lexer": "ipython3",
   "version": "3.8.8"
  }
 },
 "nbformat": 4,
 "nbformat_minor": 5
}
